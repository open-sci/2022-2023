{
 "cells": [
  {
   "cell_type": "markdown",
   "id": "a0302f17-5c79-4f10-a79f-4fa3fb32b02b",
   "metadata": {},
   "source": [
    "<h1 style=\"color:blueviolet\">Sara's Notebook for Pika.py's Project</h1>"
   ]
  },
  {
   "cell_type": "markdown",
   "id": "38ab6917-4d24-45af-a4d3-3b6112e79c4c",
   "metadata": {},
   "source": [
    "<p>This notebook is created in order to keep track of the development of the Open Science's course final project.</p>"
   ]
  },
  {
   "cell_type": "markdown",
   "id": "5e54897c-744b-43c2-ab4f-d97300add288",
   "metadata": {
    "tags": []
   },
   "source": [
    "<h2>The Research Question</h2>"
   ]
  },
  {
   "cell_type": "markdown",
   "id": "ec881f9c-1b23-4911-a819-d837af203eed",
   "metadata": {},
   "source": [
    "<p>How many <i>citations</i> (according to <b>COCI</b>) involve, either as citing or cited entities, <i>publications</i> in SSH journals (according to <b>ERIH-PLUS</b>) included in <b>OpenCitations Meta</b>? What are the <i>disciplines</i> that cites the most and those cited the most? How many citations start from and go to publications in OpenCitations Meta that are <i>not included</i> in SSH journals?</p>"
   ]
  },
  {
   "cell_type": "markdown",
   "id": "b7490add-92e6-4c9b-ad1e-910d42603836",
   "metadata": {
    "tags": []
   },
   "source": [
    "<h2 style=\"color:blueviolet\">28/03/2023 - Tuesday </h2>"
   ]
  },
  {
   "cell_type": "markdown",
   "id": "b4d6a47b-4b52-479b-aab9-c1fc861214a7",
   "metadata": {},
   "source": [
    "<p>Today I started to analyse the guidelines for creating the abstract and to think about it. The main points on which we have to focus are:</p>\n",
    "<ul>\n",
    "    <li>Purpose</li>\n",
    "    <li>Design/Methodology approach</li>\n",
    "    <li>Findigs - that maybe in our case cannot be described yet</li>\n",
    "    <li>Originality/Value</li>\n",
    "</ul>\n",
    "<p> We also have to keep it short, so with a maximum of 250 words.</p>\n",
    "\n",
    "<p>For what concern our datasets, I tried to download all the data dumps for starting to understand how data is structured and what type of information is contained. For COCI I have some problems in downloading, so I'll try in a while again. </p>"
   ]
  },
  {
   "cell_type": "markdown",
   "id": "d78a433f-2aa5-4642-83ad-54a23d783975",
   "metadata": {},
   "source": [
    "<h3 style=\"color:darkblue\">18.30 - Update</h3>"
   ]
  },
  {
   "cell_type": "markdown",
   "id": "01156ef8-acee-4d23-bcd3-fcda5cad34a1",
   "metadata": {},
   "source": [
    "<p> We met in order to create the abstract of the article. Olga proposed her draft and, after some changes and adjustments, we agreed to keep it and publish it on the repository.</p>"
   ]
  },
  {
   "cell_type": "markdown",
   "id": "faba7b8f-e80f-4d58-8466-ccb22cc7a448",
   "metadata": {},
   "source": [
    "<h2 style=\"color:blueviolet\">03/04/2023 - Monday </h2>"
   ]
  },
  {
   "cell_type": "markdown",
   "id": "7343cff8-899b-4cfc-85e7-de151e1b3d33",
   "metadata": {},
   "source": [
    "<p>I obtained my <a href=\"https://orcid.org/0009-0008-4037-6607\">orcid</a> and we met in order to use OpenAIRE Argos for creating the first draft of the Data Management Plan. Then we deposited it on Zenodo with the DOI: <a href=\"https://zenodo.org/record/7794672#.ZC1zBHZBy5e\">10.5281/zenodo.7794672</a> </p>\n",
    "<p>Then we started to create our workflow on protocols.io. </p>"
   ]
  },
  {
   "cell_type": "markdown",
   "id": "c95f56d3-defc-4b13-a266-528224f75184",
   "metadata": {},
   "source": [
    "<h2 style=\"color:blueviolet\">10/04/2023 - Monday </h2>"
   ]
  },
  {
   "cell_type": "markdown",
   "id": "9f0a8406-7217-40f7-bf32-d04977d68bea",
   "metadata": {},
   "source": [
    "<p>I finished the first version draft of the protocol and I'll wait for the approve from the other member of the team.</p>"
   ]
  },
  {
   "cell_type": "markdown",
   "id": "3f00b877-8cec-42b8-b4c4-275d78fe5094",
   "metadata": {},
   "source": [
    "<h2 style=\"color:blueviolet\">11/04/2023 - Tuesday </h2>"
   ]
  },
  {
   "cell_type": "markdown",
   "id": "7b4f1483-ea61-490e-9773-911c957cc887",
   "metadata": {},
   "source": [
    "<p>We published the protocol and obtained the <a href=\"https://doi.org/10.17504/protocols.io.n92ldpeenl5b/v1\">DOI</a> for it. </p>"
   ]
  },
  {
   "cell_type": "markdown",
   "id": "44c1b032-e52a-4f9c-bccb-79c212ad02eb",
   "metadata": {},
   "source": [
    "<h2 style=\"color:blueviolet\">16/04/2023 - Sunday </h2>"
   ]
  },
  {
   "cell_type": "markdown",
   "id": "20d82f17-3e8e-4b45-a77f-30ed3fad7484",
   "metadata": {},
   "source": [
    "<p>I started to review the other team's DMP and I tried again to download the COCI dump. </p>"
   ]
  },
  {
   "cell_type": "markdown",
   "id": "fded2fd9-fda2-47cc-8df4-58c365eefb7c",
   "metadata": {},
   "source": [
    "<h2 style=\"color:blueviolet\">17/04/2023 - Monday </h2>"
   ]
  },
  {
   "cell_type": "markdown",
   "id": "2bfe1d3f-b5af-48f6-b3ba-91e71461b9b0",
   "metadata": {},
   "source": [
    "I finished my review and published it on Qeios, obtaining the <a href=\"https://doi.org/10.32388/LRYCBA\">DOI</a>. I also managed to download the COCI dump, so now I have all the datasets. "
   ]
  },
  {
   "cell_type": "markdown",
   "id": "0447e531-53ab-4367-9525-6e4cfb02a9c6",
   "metadata": {},
   "source": [
    "<h2 style=\"color:blueviolet\">21/04/2023 - Friday </h2>"
   ]
  },
  {
   "cell_type": "markdown",
   "id": "d8ff9d29-8aa7-4595-883d-6027e67a0b26",
   "metadata": {},
   "source": [
    "<p>We read all together the received reviews, discussed them and we modified the DMP, by correcting some aspects that we didn't notice before. We obtained a new <a href=\"https://zenodo.org/record/7853521\">DOI.</a></p>"
   ]
  },
  {
   "cell_type": "markdown",
   "id": "8a87eec4-f24d-4459-8636-cd8b555f3161",
   "metadata": {},
   "source": [
    "<h2 style=\"color:blueviolet\">22/04/2023 - Saturday </h2>"
   ]
  },
  {
   "cell_type": "markdown",
   "id": "25c298bc-6121-427c-9d86-73fc32044606",
   "metadata": {},
   "source": [
    "Starting from the review of the other team, we started to modify the protocol, trying to be more specific in which type of operations we are going to do. "
   ]
  },
  {
   "cell_type": "markdown",
   "id": "d0c7fb57-98a5-495e-b6ec-e680fa28b645",
   "metadata": {},
   "source": [
    "<h2 style=\"color:blueviolet\">26/04/2023 - Wednesday </h2>"
   ]
  },
  {
   "cell_type": "markdown",
   "id": "2a1d8eb3-9278-43d2-9e80-43daeefd8976",
   "metadata": {},
   "source": [
    "<p>We started to process our data, using the code that Marta has created. I have some issues because my computer is not powerful enough to process them.</p>"
   ]
  },
  {
   "cell_type": "markdown",
   "id": "0c2899a3-3176-4966-a205-741fec03ae71",
   "metadata": {},
   "source": [
    "<h2 style=\"color:blueviolet\"> 07/05/2023 - Sunday </h2>"
   ]
  },
  {
   "cell_type": "markdown",
   "id": "42e9e9f8-0e48-4035-ab10-aaf221a0525d",
   "metadata": {},
   "source": [
    "<p>Due to the fact that I have issues processing data, I have started to search some previous literature in order to create a first draft of the article. I have found some interesting articles regarding the comparison of citations between journal articles and books, and also a comparative study of databases in the SSH. I have start reading these papers in order to understand which we can extract from them and if we can add something new to these discoveries with our research. </p> <p>By searching papers I have better understand the importance to guarantee open access researches. In fact, a lot of interesting articles cannot be read without paying, and that discourages the researcher to use them if it is not strictly necessary. </p>"
   ]
  },
  {
   "cell_type": "markdown",
   "id": "51b90fa2-4d2e-41c6-aed9-a8349a417781",
   "metadata": {},
   "source": [
    "<p>The interesting articles that I have found are:\n",
    "    <ul>\n",
    "        <li> Article 1: <a href=\"https://academic.oup.com/rev/article-abstract/28/4/383/5580326\"> “Do we need a book citation index for research evaluation?”</a> [but it is not accessible, so probably it will not be used]\n",
    "        </li>\n",
    "        <li> Article 2: <a href=\"https://journals.openedition.org/cybergeo/22862\"> “JournalBase - A Comparative International Study of Scientific Journal Databases in the Social Sciences and the Humanities (SSH)\"</a>\n",
    "        </li>\n",
    "        <li> Article 3: <a href=\"https://link.springer.com/article/10.1007/s00005-009-0014-0\"> “On the fairness of using relative indicators for comparing citation performance in different disciplines”</a></li>\n",
    "    </ul>\n",
    "    \n",
    "Even if these papers are not perfectly pertinent with our research I think they can be used as valid comparison with the result we will reach. \n",
    "</p>"
   ]
  },
  {
   "cell_type": "markdown",
   "id": "b7244bea-fa40-42fe-a812-fa1b3622fd3a",
   "metadata": {
    "tags": []
   },
   "source": [
    "<p> I also tried to reformulate our abstract, but it has to be discussed with all the team: </p>"
   ]
  },
  {
   "cell_type": "markdown",
   "id": "5bfd9d44-d587-42ae-b248-467197d019d1",
   "metadata": {
    "tags": []
   },
   "source": [
    "<h4>Abstract v.2</h4>\n",
    "<p>\n",
    "    The main purpose of our research is to answer to three different question and find out:\n",
    "    <ul>\n",
    "        <li>by looking at citations data contained in COCI, the number of citations included in Meta which refer to publication in SSH (Social Sciences and Humanities) journals indicated in ERIH-PLUS</li>\n",
    "        <li>the disciplines citing the most VS the disciplines cited the most</li>\n",
    "        <li>the citations from/to publication contained in Meta which are not included in SSH journals We want to create a connection between these three different datasets for having an overall view of the citations present in each of them.</li>\n",
    "    </ul>\n",
    "For this reason, we approach the problem from a computational point of view. We started by extracting only the relevant data by operating a first processing of COCI, ERIH-PLUS and META's datasets. Then we built a python software able to analyse the csv format data, querying them in order to retrieve the info needed and to present the results in a clear and understandable way, which will be available through different data formats like csv and json. The findings show that there are no meaningful differences in the number of citations coming from different disciplines, since it is related to the subject of the study, while the ones cited the most belong to psychology, health and science studies. The research conducted by us has the purpose to add information to existing resources with the aim of facilitating their use and allowing the researchers to have a clearer view of the data contained in each dataset. Further development can be made, for example analysing other disciplines, to have the same overview as the one created by us but related to other fields.\n",
    "</p>"
   ]
  },
  {
   "cell_type": "markdown",
   "id": "a6eb1160-0057-4ce0-921a-8803f3107aea",
   "metadata": {},
   "source": [
    "<p>I also started creating the material.md file and providing the first role attribution for me, Olga, Marta and Lorenzo. I found an interesting <a href=\"https://credit.niso.org/contributor-roles-defined/\">guide</a> in which the roles are accurately described. <br>\n",
    "So I thought to assign to:</p>\n",
    "<ul>\n",
    "    <li>Lorenzo - Methodology, Software</li>\n",
    "    <li>Marta - Methodology, Data curation, Software</li>\n",
    "    <li>Olga - Methodology, Data curation, Software</li>\n",
    "    <li>Sara - Methodology, Investigation, Writing original draft </li>\n",
    "</ul>\n",
    "<p>Obviosly, these roles have to be discussed with the team and will be better defined at the end of the research.</p>"
   ]
  },
  {
   "cell_type": "markdown",
   "id": "46bbf456-f838-4eff-83a6-dbd4ac05c572",
   "metadata": {},
   "source": [
    "<h2 style=\"color:blueviolet\"> 10/05/2023 - Wednesday </h2>"
   ]
  },
  {
   "cell_type": "markdown",
   "id": "130f47db-e00a-4e01-9f1c-8d731b77367c",
   "metadata": {},
   "source": [
    "<p>Today we uploaded a new version of DMP, modifying the information according to the review received from the other team and obtaining a new  <a href=\"https://doi.org/10.5281/zenodo.7919769\">DOI</a>.<br>\n",
    "I checked the Response Letter written by Lorenzo, adding some changes, and I published it on Zenodo, obtaining the <a href=\"https://doi.org/10.5281/zenodo.7919942\">DOI</a>.<br> We also started to modify the protocol.io and Olga and Marta wrote the Response Letter to the protocol's review, publishing both and obtaining the following DOIs:</p> \n",
    "<ul>\n",
    "    <li>https://doi.org/10.17504/protocols.io.n92ldpeenl5b/v2</li>\n",
    "    <li>https://doi.org/10.5281/zenodo.7919940</li>\n",
    "</ul>"
   ]
  },
  {
   "cell_type": "markdown",
   "id": "3a4738de-f31f-411c-88eb-5d756a5f3924",
   "metadata": {},
   "source": [
    "<h2 style=\"color:blueviolet\"> 12/05/2023 - Friday </h2>"
   ]
  },
  {
   "cell_type": "markdown",
   "id": "15a6b9e3-c3f9-4190-a259-fe7efd126df1",
   "metadata": {},
   "source": [
    "<p>Today I started to write down the article. I used some of the founded articles to try explaining our research goal. I started also to analyse the code produced by Marta, Olga and Lorenzo, even if I assisted to the creation of some of the methods. The code is not fully ready so I rather to wait before starting to describe our methodology. </p>"
   ]
  },
  {
   "cell_type": "markdown",
   "id": "b29aafe7-770f-4469-8acc-ba97eaeaa259",
   "metadata": {},
   "source": [
    "<h2 style=\"color:blueviolet\"> 18/05/2023 - Thursday </h2>"
   ]
  },
  {
   "cell_type": "markdown",
   "id": "44ac1bfb-7e59-482d-9e31-8c015f6be725",
   "metadata": {},
   "source": [
    "<p>Today I met with Olga and Marta and I ask their opinion about how to set the paragraph that regards the methodology. We decided to not be too much precise in the description of the methods. I also showed them my idea for the slides presentation. We started also to discuss about the code for the question number two.</p>"
   ]
  },
  {
   "cell_type": "markdown",
   "id": "8be27d93-ccff-42bb-8491-9c3a24ce118d",
   "metadata": {},
   "source": [
    "<h2 style=\"color:blueviolet\"> 23/05/2023 - Tuesday </h2>"
   ]
  },
  {
   "cell_type": "markdown",
   "id": "90f2f105-ea93-47c2-87e2-ed62f36e1207",
   "metadata": {},
   "source": [
    "<p>The final version of the code is quite ready. Unfortunately the process of the data takes a long time, so I had to wait in order to describe accurately the code without having to modify it every time a change occurs. Today I put my attention to the references within the article, in particular for what concerns the softwares reused. I, Olga and Marta organized an online meeting to analyse the new code produced. They explain to me the new methods added.</p>"
   ]
  },
  {
   "cell_type": "markdown",
   "id": "34f95cd6-8430-4046-8d57-da2ce53d5fb9",
   "metadata": {},
   "source": [
    "<h2 style=\"color:blueviolet\"> 24/05/2023 - Wednesday </h2>"
   ]
  },
  {
   "cell_type": "markdown",
   "id": "9ca78d69-5079-4b34-ac36-f5de49434b23",
   "metadata": {},
   "source": [
    "<p> Today I wrote the major part of the article, in particular the methodology, and I started to think about the discussion and how to describe the findings of our research. Olga suggested me some interesting articles about our most cited (and citing) discipline, which is psychology. I also wrote the description of almost all the classes included in the software, but the Counter, which is still on going. Marta and Olga helped me to clarify some lines that I didn't understand and I highlight some parts of code to check.</p>"
   ]
  },
  {
   "cell_type": "markdown",
   "id": "0b3945ef-e1af-49bd-aa79-5130819a1417",
   "metadata": {},
   "source": [
    "<h2 style=\"color:blueviolet\"> 25/05/2023 - Thursday </h2>"
   ]
  },
  {
   "cell_type": "markdown",
   "id": "7364370b-6097-420c-b616-be3d447ab0e1",
   "metadata": {},
   "source": [
    "<p>Today I finished the first draft of the article. I waited for the results and, once obtained, I put them into the article as I thought was convenient to do. I shared the original file with Olga, Marta and Lorenzo, so that they can directly modify the article according to their opinions and ideas. </p>"
   ]
  },
  {
   "cell_type": "markdown",
   "id": "fd316ea3-b1a3-49eb-94ca-7a8fef8bf8e5",
   "metadata": {},
   "source": [
    "<h2 style=\"color:blueviolet\"> 26/05/2023 - Friday </h2>"
   ]
  },
  {
   "cell_type": "markdown",
   "id": "e764ae8f-bffe-4aa2-ae81-2f0a64c1aaf9",
   "metadata": {},
   "source": [
    "<p>Today Marta and Olga and I met online to discuss the first draft of the article. They correct the document and gave me some suggestions to improve some sections. So I took their notes and I changed some parts, specially those regarding the \"Discussion and Conclusions\" one. We started to publish the datasets and Olga created a website for a better visualization of the results.</p>"
   ]
  },
  {
   "cell_type": "markdown",
   "id": "fde934c2-9ae8-4cdc-b1ca-12fafbc9708f",
   "metadata": {},
   "source": [
    "<h2 style=\"color:blueviolet\"> 27/05/2023 - Saturday </h2>"
   ]
  },
  {
   "cell_type": "markdown",
   "id": "e43e65d0-ddd9-438e-944e-973a8ed3d3bc",
   "metadata": {},
   "source": [
    "<p>We had the idea to extend the visualization of our results also to the publication years of the citations, so while I was modifying the article to adapt it, Marta and Olga wrote the related code and created the graphs. We added images to the article. Then I started to write the material.md file.</p>"
   ]
  },
  {
   "cell_type": "markdown",
   "id": "3a0889f3-de32-4194-986c-f0d750762767",
   "metadata": {},
   "source": [
    "<h2 style=\"color:blueviolet\"> 28/05/2023 - Sunday </h2>"
   ]
  },
  {
   "cell_type": "markdown",
   "id": "f2cc5726-d40d-4301-a290-5256f22b5053",
   "metadata": {},
   "source": [
    "<p>Today Olga and I met to check if all the files were ready. Lorenzo sent us the file for running the software, so we published the final version of the software on Zenodo, together with the final version of the DMP, the protocol and the article. I finished the material.md file and uploaded it on GitHub. We closed all the issue but the one regarding the slides. I have already prepared the most of them, but I need the suggestions of Olga and Marta for what concerns the part of the software, so tomorrow we will met again.</p>"
   ]
  },
  {
   "cell_type": "markdown",
   "id": "566e4aef-66ae-42ab-8a51-f54661235e82",
   "metadata": {},
   "source": [
    "<p>Here all the DOIs we obtained from our publications:</p>\n",
    "<ul>\n",
    "    <li><a href=\"https://doi.org/10.5281/zenodo.7974954\">DMP</a></li>\n",
    "    <li><a href=\"https://doi.org/10.17504/protocols.io.n92ldpeenl5b/v3\">Protocol</a></li>\n",
    "    <li><a href=\"https://doi.org/10.5281/zenodo.7978742\">Software</a></li>\n",
    "    <li><a href=\"https://doi.org/10.5281/zenodo.7973159\">Datasets [Preprocess] </a></li>\n",
    "    <li><a href=\"https://doi.org/10.5281/zenodo.7974816\">Datasets [Produced] </a></li>\n",
    "    <li><a href=\"https://doi.org/10.5281/zenodo.7978801\"> Article </a></li>\n",
    "</ul>\n",
    "\n",
    "<p>Other useful links are:</p>\n",
    "    <li><a href=\"https://opensciencepika.github.io/results/index.html\"> Result's Website</a></li>\n",
    "    <li>Our DMP reviews to the other team: <a href=\"https://doi.org/10.32388/LRYCBA\">First</a> one by Sara,<a href=\"https://doi.org/10.32388/TBDDN0\"> Second</a> one by Lorenzo</li>\n",
    "    <li><a href=\"https://doi.org/10.5281/zenodo.7919942\">Our response letter to the received DMP review </a></li>\n",
    "    <li>Our Protocol reviews to the other team: <a href=\"https://doi.org/10.32388/DNQ9QZ\">First</a> one by Olga,<a href=\"https://doi.org/10.32388/HHFGAT\"> Second</a> one by Marta</li>\n",
    "    <li><a href=\"https://doi.org/10.5281/zenodo.7919940\">Our response letter to the received Protocol review</a></li>\n",
    "</ul>"
   ]
  },
  {
   "cell_type": "markdown",
   "id": "952d2ad2-8ee7-4f27-8b9e-6103d0202e03",
   "metadata": {},
   "source": [
    "<h2 style=\"color:blueviolet\"> 06/07/2023 - Thursday </h2>"
   ]
  },
  {
   "cell_type": "markdown",
   "id": "8992cfe3-a984-4b5d-a438-564fb60cf628",
   "metadata": {},
   "source": [
    "<p> Today I analyzed the suggestions to improve our research material and I choose to put my attention in re-writing some parts of the article. <br/> I created a document where I put all the comments received and, for each modification, I wrote down what I changed and where I did it.<br/>\n",
    "I tried to reformulate the abstract as suggested and to add some information starting from the general comments. Then, I modified all the references, by deleting the footnotes and inserting in-text citations. I moved our graphs in the results and re-organized our \"Discussion\" section, dividing it from the \"Conclusions\" one. In the \"References\" paragraph, I added the reference to the Datasets with the version utilized in our research. </p>"
   ]
  },
  {
   "cell_type": "markdown",
   "id": "f8e3556e-47bd-4aa8-befc-b194ef7a0d75",
   "metadata": {},
   "source": [
    "<h2 style=\"color:blueviolet\"> 07/07/2023 - Friday </h2>"
   ]
  },
  {
   "cell_type": "markdown",
   "id": "a79cc35e-180b-434d-b554-2a09a1a4d0d1",
   "metadata": {},
   "source": [
    "Today I share with Olga, Marta and Lorenzo all the changes and I ask them to check them."
   ]
  },
  {
   "cell_type": "markdown",
   "id": "9de6902d-e093-4c02-9c4c-8f169d287596",
   "metadata": {},
   "source": [
    "<h2 style=\"color:blueviolet\"> 26/07/2023 - Wednesday </h2>"
   ]
  },
  {
   "cell_type": "markdown",
   "id": "d9d3b73f-34d7-41dd-8688-846ee1795b00",
   "metadata": {},
   "source": [
    "<p>After my second-to-last exam, I checked again the issue list and I helped Olga to modify the DMP according the suggestions. </p>"
   ]
  },
  {
   "cell_type": "markdown",
   "id": "746b3e95-e149-457e-9964-037d0d4952e8",
   "metadata": {},
   "source": [
    "<h2 style=\"color:blueviolet\"> 27/07/2023 - Thursday </h2>"
   ]
  },
  {
   "cell_type": "markdown",
   "id": "e095377d-8c84-49b8-9427-54c9b6766330",
   "metadata": {},
   "source": [
    "<p>  We finalized the DMP, but we didn't publish it waiting for Lorenzo and Marta's approval.</p>"
   ]
  },
  {
   "cell_type": "markdown",
   "id": "1c33975a-3ba8-4574-ad1c-976b58ff3b5c",
   "metadata": {},
   "source": [
    "<h2 style=\"color:blueviolet\"> 28/08/2023 - Monday </h2>"
   ]
  },
  {
   "cell_type": "markdown",
   "id": "467cbea7-a85e-4509-a1a7-d79ee1dc283d",
   "metadata": {},
   "source": [
    "<p>Today I have modified mainly the \"Discussion\" section and I started to think about how to add a table for better explain our findings. </p>"
   ]
  },
  {
   "cell_type": "markdown",
   "id": "9cef4781-b69e-4695-a79c-ceaab6789058",
   "metadata": {},
   "source": [
    "<h2 style=\"color:blueviolet\"> 29/08/2023 - Tuesday </h2>"
   ]
  },
  {
   "cell_type": "markdown",
   "id": "7273f251-df97-4029-9005-b826f255dee5",
   "metadata": {},
   "source": [
    "<p>I added a table in the \"Results\" section with a comparison for each discipline between \"citing\" and \"cited\". I also reorganized a bit the discussion section and,after I have talked to the others, I created a new subsection called \"Limitations to the work\". </p>"
   ]
  },
  {
   "cell_type": "markdown",
   "id": "46be2865-b37d-4f1e-b92a-e680accc4e52",
   "metadata": {},
   "source": [
    "<h2 style=\"color:blueviolet\"> 03/09/2023 - Sunday</h2>"
   ]
  },
  {
   "cell_type": "markdown",
   "id": "7ba63eef-2f69-4645-be50-7d4020e2e15d",
   "metadata": {},
   "source": [
    "<p>I have completed the second draft of the article. Now we have to:</p>\n",
    "<ul>\n",
    "    <li>Check the article</li>\n",
    "    <li>Modify the slides</li>\n",
    "    <li>Publish the new materials and add the correct references</li>\n",
    "    <li>Modify the materials.md </li>"
   ]
  },
  {
   "cell_type": "markdown",
   "id": "37c16213-0af1-4ca6-9d43-6b45fa571cd6",
   "metadata": {},
   "source": [
    "<h2 style=\"color:blueviolet\"> 07/09/2023 - Thursday</h2>"
   ]
  },
  {
   "cell_type": "markdown",
   "id": "d932df9c-3510-4d93-a17f-4fd9c268dbb2",
   "metadata": {},
   "source": [
    "<p>Today, I added to the slides one highlighting the possible \"future works\". Then, I edited the final version of the article with Olga and Marta and we published all the materials again.</p>\n",
    "<p>The new DOIs obtained are:</p>\n",
    "<ul>\n",
    "    <li> <a href=\"https://doi.org/10.5281/zenodo.8324961\"> SOFTWARE</a></li>\n",
    "    <li><a href=\"https://doi.org/10.5281/zenodo.8324973\">DMP</a></li>\n",
    "    <li><a href=\"https://zenodo.org/record/8324989\">ARTICLE</a></li>\n",
    "    <li><a href=\"https://doi.org/10.17504/protocols.io.n92ldpeenl5b/v4\">PROTOCOL</a></li>\n",
    "    <li><a href=\"https://doi.org/10.5281/zenodo.8325012\">SLIDES</a></li>\n",
    "</ul>\n",
    "    \n",
    "<p>I modified the materials.md with the new versions's references. I'm waiting for Lorenzo to finish the README before submitting our comments to the suggestions received and closing the issue.</p>"
   ]
  },
  {
   "cell_type": "code",
   "execution_count": null,
   "id": "44f7f517-2eef-4522-a5e0-97464d74d21f",
   "metadata": {},
   "outputs": [],
   "source": []
  }
 ],
 "metadata": {
  "kernelspec": {
   "display_name": "Python 3 (ipykernel)",
   "language": "python",
   "name": "python3"
  },
  "language_info": {
   "codemirror_mode": {
    "name": "ipython",
    "version": 3
   },
   "file_extension": ".py",
   "mimetype": "text/x-python",
   "name": "python",
   "nbconvert_exporter": "python",
   "pygments_lexer": "ipython3",
   "version": "3.10.1"
  }
 },
 "nbformat": 4,
 "nbformat_minor": 5
}
