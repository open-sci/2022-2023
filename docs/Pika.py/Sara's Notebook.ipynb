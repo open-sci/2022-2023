{
 "cells": [
  {
   "cell_type": "markdown",
   "id": "a0302f17-5c79-4f10-a79f-4fa3fb32b02b",
   "metadata": {},
   "source": [
    "<h1 style=\"color:blueviolet\">Sara's Notebook for Pika.py's Project</h1>"
   ]
  },
  {
   "cell_type": "markdown",
   "id": "38ab6917-4d24-45af-a4d3-3b6112e79c4c",
   "metadata": {},
   "source": [
    "<p>This notebook is created in order to keep track of the development of the Open Science's course final project.</p>"
   ]
  },
  {
   "cell_type": "markdown",
   "id": "5e54897c-744b-43c2-ab4f-d97300add288",
   "metadata": {
    "tags": []
   },
   "source": [
    "<h2>The Research Question</h2>"
   ]
  },
  {
   "cell_type": "markdown",
   "id": "ec881f9c-1b23-4911-a819-d837af203eed",
   "metadata": {},
   "source": [
    "<p>How many <i>citations</i> (according to <b>COCI</b>) involve, either as citing or cited entities, <i>publications</i> in SSH journals (according to <b>ERIH-PLUS</b>) included in <b>OpenCitations Meta</b>? What are the <i>disciplines</i> that cites the most and those cited the most? How many citations start from and go to publications in OpenCitations Meta that are <i>not included</i> in SSH journals?</p>"
   ]
  },
  {
   "cell_type": "markdown",
   "id": "b7490add-92e6-4c9b-ad1e-910d42603836",
   "metadata": {
    "tags": []
   },
   "source": [
    "<h2 style=\"color:blueviolet\">28/03/2023 - Tuesday </h2>"
   ]
  },
  {
   "cell_type": "markdown",
   "id": "b4d6a47b-4b52-479b-aab9-c1fc861214a7",
   "metadata": {},
   "source": [
    "<p>Today I started to analyse the guidelines for creating the abstract and to think about it. The main points on which we have to focus are:</p>\n",
    "<ul>\n",
    "    <li>Purpose</li>\n",
    "    <li>Design/Methodology approach</li>\n",
    "    <li>Findigs - that maybe in our case cannot be described yet</li>\n",
    "    <li>Originality/Value</li>\n",
    "</ul>\n",
    "<p> We also have to keep it short, so with a maximum of 250 words.</p>\n",
    "\n",
    "<p>For what concern our datasets, I tried to download all the data dumps for starting to understand how data is structured and what type of information is contained. For COCI I have some problems in downloading, so I'll try in a while again. </p>"
   ]
  },
  {
   "cell_type": "markdown",
   "id": "d78a433f-2aa5-4642-83ad-54a23d783975",
   "metadata": {},
   "source": [
    "<h3 style=\"color:darkblue\">18.30 - Update</h3>"
   ]
  },
  {
   "cell_type": "markdown",
   "id": "01156ef8-acee-4d23-bcd3-fcda5cad34a1",
   "metadata": {},
   "source": [
    "<p> We met in order to create the abstract of the article. Olga proposed her draft and, after some changes and adjustments, we agreed to keep it and publish it on the repository.</p>"
   ]
  },
  {
   "cell_type": "markdown",
   "id": "faba7b8f-e80f-4d58-8466-ccb22cc7a448",
   "metadata": {},
   "source": [
    "<h2 style=\"color:blueviolet\">03/04/2023 - Monday </h2>"
   ]
  },
  {
   "cell_type": "markdown",
   "id": "7343cff8-899b-4cfc-85e7-de151e1b3d33",
   "metadata": {},
   "source": [
    "<p>I obtained my <a href=\"https://orcid.org/0009-0008-4037-6607\">orcid</a> and we met in order to use OpenAIRE Argos for creating the first draft of the Data Management Plan. Then we deposited it on Zenodo with the DOI: <a href=\"https://zenodo.org/record/7794672#.ZC1zBHZBy5e\">10.5281/zenodo.7794672</a> </p>\n",
    "<p>Then we started to create our workflow on protocols.io. </p>"
   ]
  },
  {
   "cell_type": "markdown",
   "id": "c95f56d3-defc-4b13-a266-528224f75184",
   "metadata": {},
   "source": [
    "<h2 style=\"color:blueviolet\">10/04/2023 - Monday </h2>"
   ]
  },
  {
   "cell_type": "markdown",
   "id": "9f0a8406-7217-40f7-bf32-d04977d68bea",
   "metadata": {},
   "source": [
    "<p>I finished the first version draft of the protocol and I'll wait for the approve from the other member of the team.</p>"
   ]
  },
  {
   "cell_type": "markdown",
   "id": "3f00b877-8cec-42b8-b4c4-275d78fe5094",
   "metadata": {},
   "source": [
    "<h2 style=\"color:blueviolet\">11/04/2023 - Tuesday </h2>"
   ]
  },
  {
   "cell_type": "markdown",
   "id": "7b4f1483-ea61-490e-9773-911c957cc887",
   "metadata": {},
   "source": [
    "<p>We published the protocol and obtained the <a href=\"https://doi.org/10.17504/protocols.io.n92ldpeenl5b/v1\">DOI</a> for it. </p>"
   ]
  },
  {
   "cell_type": "markdown",
   "id": "44c1b032-e52a-4f9c-bccb-79c212ad02eb",
   "metadata": {},
   "source": [
    "<h2 style=\"color:blueviolet\">16/04/2023 - Sunday </h2>"
   ]
  },
  {
   "cell_type": "markdown",
   "id": "20d82f17-3e8e-4b45-a77f-30ed3fad7484",
   "metadata": {},
   "source": [
    "<p>I started to review the other team's DMP and I tried again to download the COCI dump. </p>"
   ]
  },
  {
   "cell_type": "markdown",
   "id": "fded2fd9-fda2-47cc-8df4-58c365eefb7c",
   "metadata": {},
   "source": [
    "<h2 style=\"color:blueviolet\">17/04/2023 - Monday </h2>"
   ]
  },
  {
   "cell_type": "markdown",
   "id": "2bfe1d3f-b5af-48f6-b3ba-91e71461b9b0",
   "metadata": {},
   "source": [
    "I finished my review and published it on Qeios, obtaining the <a href=\"https://doi.org/10.32388/LRYCBA\">DOI</a>. I also managed to download the COCI dump, so now I have all the datasets. "
   ]
  },
  {
   "cell_type": "markdown",
   "id": "0447e531-53ab-4367-9525-6e4cfb02a9c6",
   "metadata": {},
   "source": [
    "<h2 style=\"color:blueviolet\">21/04/2023 - Friday </h2>"
   ]
  },
  {
   "cell_type": "markdown",
   "id": "d8ff9d29-8aa7-4595-883d-6027e67a0b26",
   "metadata": {},
   "source": [
    "<p>We read all together the received reviews, discussed them and we modified the DMP, by correcting some aspects that we didn't notice before. We obtained a new <a href=\"https://zenodo.org/record/7853521\">DOI.</a></p>"
   ]
  },
  {
   "cell_type": "markdown",
   "id": "8a87eec4-f24d-4459-8636-cd8b555f3161",
   "metadata": {},
   "source": [
    "<h2 style=\"color:blueviolet\">22/04/2023 - Saturday </h2>"
   ]
  },
  {
   "cell_type": "markdown",
   "id": "25c298bc-6121-427c-9d86-73fc32044606",
   "metadata": {},
   "source": [
    "Starting from the review of the other team, we started to modify the protocol, trying to be more specific in which type of operations we are going to do. "
   ]
  },
  {
   "cell_type": "markdown",
   "id": "d0c7fb57-98a5-495e-b6ec-e680fa28b645",
   "metadata": {},
   "source": [
    "<h2 style=\"color:blueviolet\">26/04/2023 - Wednesday </h2>"
   ]
  },
  {
   "cell_type": "markdown",
   "id": "2a1d8eb3-9278-43d2-9e80-43daeefd8976",
   "metadata": {},
   "source": [
    "<p>We started to process our data, using the code that Marta has created. I have some issues because my computer is not powerful enough to process them.</p>"
   ]
  },
  {
   "cell_type": "markdown",
   "id": "0c2899a3-3176-4966-a205-741fec03ae71",
   "metadata": {},
   "source": [
    "<h2 style=\"color:blueviolet\"> 07/05/2023 - Sunday </h2>"
   ]
  },
  {
   "cell_type": "markdown",
   "id": "42e9e9f8-0e48-4035-ab10-aaf221a0525d",
   "metadata": {},
   "source": [
    "<p>Due to the fact that I have issues processing data, I have started to search some previous literature in order to create a first draft of the article. I have found some interesting articles regarding the comparison of citations between journal articles and books, and also a comparative study of databases in the SSH. I have start reading these papers in order to understand which we can extract from them and if we can add something new to these discoveries with our research. </p> <p>By searching papers I have better understand the importance to guarantee open access researches. In fact, a lot of interesting articles cannot be read without paying, and that discourages the researcher to use them if it is not strictly necessary. </p>"
   ]
  },
  {
   "cell_type": "markdown",
   "id": "51b90fa2-4d2e-41c6-aed9-a8349a417781",
   "metadata": {},
   "source": [
    "<p>The interesting articles that I have found are:\n",
    "    <ul>\n",
    "        <li> Article 1: <a href=\"https://academic.oup.com/rev/article-abstract/28/4/383/5580326\"> “Do we need a book citation index for research evaluation?”</a> [but it is not accessible, so probably it will not be used]\n",
    "        </li>\n",
    "        <li> Article 2: <a href=\"https://journals.openedition.org/cybergeo/22862\"> “JournalBase - A Comparative International Study of Scientific Journal Databases in the Social Sciences and the Humanities (SSH)\"</a>\n",
    "        </li>\n",
    "        <li> Article 3: <a href=\"https://link.springer.com/article/10.1007/s00005-009-0014-0\"> “On the fairness of using relative indicators for comparing citation performance in different disciplines”</a></li>\n",
    "    </ul>\n",
    "    \n",
    "Even if these papers are not perfectly pertinent with our research I think they can be used as valid comparison with the result we will reach. \n",
    "</p>"
   ]
  },
  {
   "cell_type": "markdown",
   "id": "b7244bea-fa40-42fe-a812-fa1b3622fd3a",
   "metadata": {
    "tags": []
   },
   "source": [
    "<p> I also tried to reformulate our abstract, but it has to be discussed with all the team: </p>"
   ]
  },
  {
   "cell_type": "markdown",
   "id": "5bfd9d44-d587-42ae-b248-467197d019d1",
   "metadata": {
    "tags": []
   },
   "source": [
    "<h4>Abstract v.2</h4>\n",
    "<p>\n",
    "    The main purpose of our research is to answer to three different question and find out:\n",
    "    <ul>\n",
    "        <li>by looking at citations data contained in COCI, the number of citations included in Meta which refer to publication in SSH (Social Sciences and Humanities) journals indicated in ERIH-PLUS</li>\n",
    "        <li>the disciplines citing the most VS the disciplines cited the most</li>\n",
    "        <li>the citations from/to publication contained in Meta which are not included in SSH journals We want to create a connection between these three different datasets for having an overall view of the citations present in each of them.</li>\n",
    "    </ul>\n",
    "For this reason, we approach the problem from a computational point of view. We started by extracting only the relevant data by operating a first processing of COCI, ERIH-PLUS and META's datasets. Then we built a python software able to analyse the csv format data, querying them in order to retrieve the info needed and to present the results in a clear and understandable way, which will be available through different data formats like csv and json. The findings show that there are no meaningful differences in the number of citations coming from different disciplines, since it is related to the subject of the study, while the ones cited the most belong to psychology, health and science studies. The research conducted by us has the purpose to add information to existing resources with the aim of facilitating their use and allowing the researchers to have a clearer view of the data contained in each dataset. Further development can be made, for example analysing other disciplines, to have the same overview as the one created by us but related to other fields.\n",
    "</p>"
   ]
  },
  {
   "cell_type": "code",
   "execution_count": null,
   "id": "a1c95450-1c72-459b-9c70-66e8958a5d1c",
   "metadata": {},
   "outputs": [],
   "source": []
  }
 ],
 "metadata": {
  "kernelspec": {
   "display_name": "Python 3 (ipykernel)",
   "language": "python",
   "name": "python3"
  },
  "language_info": {
   "codemirror_mode": {
    "name": "ipython",
    "version": 3
   },
   "file_extension": ".py",
   "mimetype": "text/x-python",
   "name": "python",
   "nbconvert_exporter": "python",
   "pygments_lexer": "ipython3",
   "version": "3.10.1"
  }
 },
 "nbformat": 4,
 "nbformat_minor": 5
}
