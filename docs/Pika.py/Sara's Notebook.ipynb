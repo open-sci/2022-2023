{
 "cells": [
  {
   "cell_type": "markdown",
   "id": "a0302f17-5c79-4f10-a79f-4fa3fb32b02b",
   "metadata": {},
   "source": [
    "<h1 style=\"color:blueviolet\">Sara's Notebook for Pika.py's Project</h1>"
   ]
  },
  {
   "cell_type": "markdown",
   "id": "38ab6917-4d24-45af-a4d3-3b6112e79c4c",
   "metadata": {},
   "source": [
    "<p>This notebook is created in order to keep track of the development of the Open Science's course final project.</p>"
   ]
  },
  {
   "cell_type": "markdown",
   "id": "5e54897c-744b-43c2-ab4f-d97300add288",
   "metadata": {
    "tags": []
   },
   "source": [
    "<h2>The Research Question</h2>"
   ]
  },
  {
   "cell_type": "markdown",
   "id": "ec881f9c-1b23-4911-a819-d837af203eed",
   "metadata": {},
   "source": [
    "<p>How many <i>citations</i> (according to <b>COCI</b>) involve, either as citing or cited entities, <i>publications</i> in SSH journals (according to <b>ERIH-PLUS</b>) included in <b>OpenCitations Meta</b>? What are the <i>disciplines</i> that cites the most and those cited the most? How many citations start from and go to publications in OpenCitations Meta that are <i>not included</i> in SSH journals?</p>"
   ]
  },
  {
   "cell_type": "markdown",
   "id": "b7490add-92e6-4c9b-ad1e-910d42603836",
   "metadata": {
    "tags": []
   },
   "source": [
    "<h2 style=\"color:blueviolet\">28/03/2023 - Tuesday </h2>"
   ]
  },
  {
   "cell_type": "markdown",
   "id": "b4d6a47b-4b52-479b-aab9-c1fc861214a7",
   "metadata": {},
   "source": [
    "<p>Today I started to analyse the guidelines for creating the abstract and to think about it. The main points on which we have to focus are:</p>\n",
    "<ul>\n",
    "    <li>Purpose</li>\n",
    "    <li>Design/Methodology approach</li>\n",
    "    <li>Findigs - that maybe in our case cannot be described yet</li>\n",
    "    <li>Originality/Value</li>\n",
    "</ul>\n",
    "<p> We also have to keep it short, so with a maximum of 250 words.</p>\n",
    "\n",
    "<p>For what concern our datasets, I tried to download all the data dumps for starting to understand how data is structured and what type of information is contained. For META I have some problems in downloading, so I'll try in a while again. </p>"
   ]
  },
  {
   "cell_type": "markdown",
   "id": "d78a433f-2aa5-4642-83ad-54a23d783975",
   "metadata": {},
   "source": [
    "<h3 style=\"color:darkblue\">18.30 - Update</h3>"
   ]
  },
  {
   "cell_type": "markdown",
   "id": "01156ef8-acee-4d23-bcd3-fcda5cad34a1",
   "metadata": {},
   "source": [
    "<p> We met in order to create the abstract of the article. Olga proposed her draft and, after some changes and adjustments, we agreed to keep it and publish it on the repository.</p>"
   ]
  },
  {
   "cell_type": "markdown",
   "id": "faba7b8f-e80f-4d58-8466-ccb22cc7a448",
   "metadata": {},
   "source": [
    "<h2 style=\"color:blueviolet\">03/04/2023 - Monday </h2>"
   ]
  },
  {
   "cell_type": "markdown",
   "id": "7343cff8-899b-4cfc-85e7-de151e1b3d33",
   "metadata": {},
   "source": [
    "<p>I obtained my <a href=\"https://orcid.org/0009-0008-4037-6607\">orcid</a> and we met in order to use OpenAIRE Argos for creating the first draft of the Data Management Plan. Then we deposited it on Zenodo with the DOI: <a href=\"https://zenodo.org/record/7794672#.ZC1zBHZBy5e\">10.5281/zenodo.7794672</a> </p>\n",
    "<p>Then we started to create our workflow on protocols.io. </p>"
   ]
  },
  {
   "cell_type": "code",
   "execution_count": null,
   "id": "cbb8d855-bbf9-4b7f-ba90-e9c446aa0d56",
   "metadata": {},
   "outputs": [],
   "source": []
  }
 ],
 "metadata": {
  "kernelspec": {
   "display_name": "Python 3 (ipykernel)",
   "language": "python",
   "name": "python3"
  },
  "language_info": {
   "codemirror_mode": {
    "name": "ipython",
    "version": 3
   },
   "file_extension": ".py",
   "mimetype": "text/x-python",
   "name": "python",
   "nbconvert_exporter": "python",
   "pygments_lexer": "ipython3",
   "version": "3.10.1"
  }
 },
 "nbformat": 4,
 "nbformat_minor": 5
}
