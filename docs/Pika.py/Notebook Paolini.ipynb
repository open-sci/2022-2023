{
 "cells": [
  {
   "attachments": {},
   "cell_type": "markdown",
   "metadata": {},
   "source": [
    "# <span style=\"color:#D6D58E\">Lorenzo Paolini - OpenScience Project Notebook</span>"
   ]
  },
  {
   "attachments": {},
   "cell_type": "markdown",
   "metadata": {},
   "source": [
    "## <span style=\"color:#9FC131\">Research question</span>"
   ]
  },
  {
   "attachments": {},
   "cell_type": "markdown",
   "metadata": {},
   "source": [
    "<b>How many citations (according to COCI) involve, either as citing or cited entities, publications in SSH journals (according to ERIH-PLUS) included in OpenCitations Meta? What are the disciplines that cites the most and those cited the most? How many citations start from and go to publications in OpenCitations Meta that are not included in SSH journals?</b>"
   ]
  },
  {
   "attachments": {},
   "cell_type": "markdown",
   "metadata": {},
   "source": [
    "--------"
   ]
  },
  {
   "cell_type": "markdown",
   "metadata": {},
   "source": [
    "-----"
   ]
  },
  {
   "attachments": {},
   "cell_type": "markdown",
   "metadata": {},
   "source": [
    "### <span style=\"color:#D6D58E\">General abstract - Progressive update</span>\n",
    "#### Last update: Week 1 (20/26 march)"
   ]
  },
  {
   "attachments": {},
   "cell_type": "markdown",
   "metadata": {},
   "source": [
    "<b>Purpose</b>: we want to find out the following:\n",
    "- by looking at citations data contained in COCI, the number of citations included in Meta which refer to publication in SSH (Social Sciences and Humanities) journals indicated in ERIH-PLUS;\n",
    "- the disciplines citing the most VS the disciplines cited the most;\n",
    "- the citations from/to publication contained in Meta which are not included in SSH journals.\n",
    "\n",
    "We want to create a connection between these three different datasets in order to have an overall view of the citations present in each of them.\n",
    "\n",
    "\n",
    "<b>Methodology</b>: we will approach the problem from a computational point of view, by building a python software able to analyse the data, querying them in order to retrieve the information needed, and to present the results in a clear and understandable way.\n",
    "\n",
    "\n",
    "<b>Findings</b>: for what concerns the findings, up to today, we can't see meaningful differences in the number of citations coming from different disciplines, since it is related to the subject of the study, while the ones cited the most belong to psychology, health and science studies.\n",
    "\n",
    "\n",
    "<b>Originality/Value</b>: our research can be defined as very valuable, since it adds information to existing resources with the aim of facilitating their use and allowing the users to have a clearer view of the data contained in each dataset. Further development will be made. For example, we could analyse other disciplines, to have the same overview as the one created by us but related to other fields.\n",
    "\n",
    "\n",
    "<i><b>Keywords</b>: OpenScience, Citation, OC-COCI, OC-Meta, ERIH-PLUS, journals</i>\n"
   ]
  },
  {
   "attachments": {},
   "cell_type": "markdown",
   "metadata": {},
   "source": [
    "--------"
   ]
  },
  {
   "cell_type": "markdown",
   "metadata": {},
   "source": [
    "-----"
   ]
  },
  {
   "attachments": {},
   "cell_type": "markdown",
   "metadata": {},
   "source": [
    "### <span style=\"color:#9FC131\">Week 1</span>\n",
    "##### <i>20/03 - 25/03</i>"
   ]
  },
  {
   "attachments": {},
   "cell_type": "markdown",
   "metadata": {},
   "source": [
    "During this week we have defined the abstract for our work. Additionally, I have started to download the data that we will use to carry out our project."
   ]
  },
  {
   "attachments": {},
   "cell_type": "markdown",
   "metadata": {},
   "source": [
    "-----"
   ]
  },
  {
   "attachments": {},
   "cell_type": "markdown",
   "metadata": {},
   "source": [
    "### <span style=\"color:#9FC131\">Week 2</span>\n",
    "##### <i>27/03 - 01/04</i>"
   ]
  },
  {
   "attachments": {},
   "cell_type": "markdown",
   "metadata": {},
   "source": [
    "This second week, which goes together with the third one (Easter things), I have created my own personal ORCID.</br>\n",
    "Additionally, I have finally downloaded all the data for the final project, and started to explore them in detail. The aim of this exploration was to have a better grasp on what we have at our disposal in order to answer the research questions provided at the top of this notebook.</br>\n",
    "\n",
    "The bigger part of the exploration has been done thanks to pandas and os libraries. I still have some doubts for what concerns COCI in particular. I am not sure about which data should I work on."
   ]
  },
  {
   "attachments": {},
   "cell_type": "markdown",
   "metadata": {},
   "source": [
    "##### <span style=\"color:#D6D58E\">Data Management Plan</span>\n",
    "Together with my group, we have defined the first draft of the data management plan of our project, and deposited it permanently on Zenodo. According to the requests, we have produced it for two datasets:\n",
    "- one for the data we will use for our project, and \n",
    "- another for the software we will develop to analyse them."
   ]
  },
  {
   "cell_type": "markdown",
   "metadata": {},
   "source": [
    "-----"
   ]
  },
  {
   "attachments": {},
   "cell_type": "markdown",
   "metadata": {},
   "source": [
    "### <span style=\"color:#9FC131\">Week 3</span>\n",
    "##### <i>03/04 - 08/04</i>"
   ]
  },
  {
   "attachments": {},
   "cell_type": "markdown",
   "metadata": {},
   "source": [
    "##### <span style=\"color:#D6D58E\">Workflow</span>\n",
    "Together with my group, we have also defined and wrote a first version of our workflow in [protocols.io](https://www.protocols.io/). The workflow is not precisely defined yet, this is due to the fact that we still need to understand better what we aim to do. \n",
    "\n",
    "After an additional review of the workflow, this morning we have obtained a DOI for the first version."
   ]
  },
  {
   "cell_type": "markdown",
   "metadata": {},
   "source": [
    "-----"
   ]
  },
  {
   "attachments": {},
   "cell_type": "markdown",
   "metadata": {},
   "source": [
    "### <span style=\"color:#9FC131\">Week 4</span>\n",
    "##### <i>10/04 - 15/04</i>"
   ]
  },
  {
   "attachments": {},
   "cell_type": "markdown",
   "metadata": {},
   "source": [
    "During this week I have tried to get back the lecture I've missed but I didn't manage to do it all. Nonetheless, I have investigated better the topics about Peer review and did the review to the other group's Data Management Plan, trying to make it as useful as possible."
   ]
  },
  {
   "cell_type": "markdown",
   "metadata": {},
   "source": [
    "-----"
   ]
  },
  {
   "attachments": {},
   "cell_type": "markdown",
   "metadata": {},
   "source": [
    "### <span style=\"color:#9FC131\">Week 5</span>\n",
    "##### <i>17/04 - 22/04</i>"
   ]
  },
  {
   "attachments": {},
   "cell_type": "markdown",
   "metadata": {},
   "source": [
    "We noticed a new release by ERIH-PLUS. We have decided all together to use such version to conduct our analysis."
   ]
  },
  {
   "attachments": {},
   "cell_type": "markdown",
   "metadata": {},
   "source": [
    "This week, we met several times with the other members of the group in order to revise the DMP and the Protocol according to the reviews we received. New versions of both the research outcomes have been published. Additionally, we discussed and prepared some answers to our reviewers, which will be published and subsequently delivered."
   ]
  },
  {
   "attachments": {},
   "cell_type": "markdown",
   "metadata": {},
   "source": [
    "Another result reahced by means of these meetings has been a first united and commonly agreed version of the final software, which has been reasoned and started to be written. In particular, we decided to re-use part of the code taken from preprocessing operations developed inside OpenCitations, properly linked in the workflow."
   ]
  },
  {
   "cell_type": "markdown",
   "metadata": {},
   "source": [
    "-----"
   ]
  },
  {
   "attachments": {},
   "cell_type": "markdown",
   "metadata": {},
   "source": [
    "### <span style=\"color:#9FC131\">Week 6</span>\n",
    "##### <i>24/04 - 29/04</i>"
   ]
  },
  {
   "attachments": {},
   "cell_type": "markdown",
   "metadata": {},
   "source": [
    "During this week, we discussed better the workflow of the project. We have also run some experiments on COCI's preprocessing."
   ]
  },
  {
   "attachments": {},
   "cell_type": "markdown",
   "metadata": {},
   "source": [
    "Additionally, I have started to work in order to provide executable bash files to make the entire process easier to be reproduced. Accordingly, I have created a new branch in our github repository, containing these new files and some tests that needs to be investigated better.\n",
    "\n",
    "For now, I have developed a .sh file useful to automatically download all the original files that will then be processed by an additional .sh file, which has been started to be developed. For now, the preprocessing.sh file contains only a first version of COCI preprocessing operations.\n",
    "\n",
    "I have also written a first version of the README of this new branch, useful to explain how to deal with such files and what commands are needed."
   ]
  }
 ],
 "metadata": {
  "language_info": {
   "name": "python"
  },
  "orig_nbformat": 4
 },
 "nbformat": 4,
 "nbformat_minor": 2
}
