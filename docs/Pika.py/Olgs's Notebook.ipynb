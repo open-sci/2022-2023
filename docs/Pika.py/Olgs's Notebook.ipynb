{
 "cells": [
  {
   "cell_type": "markdown",
   "id": "e68e88af",
   "metadata": {},
   "source": [
    "# Pika.py Notebook for OpenScience 22/23"
   ]
  },
  {
   "cell_type": "markdown",
   "id": "f399136e",
   "metadata": {},
   "source": [
    "## 27/3 preliminar analysis of data"
   ]
  },
  {
   "cell_type": "markdown",
   "id": "b728de48",
   "metadata": {},
   "source": [
    "As a first step for the creation of the abstract I have started to analyse the dataset provided."
   ]
  },
  {
   "cell_type": "markdown",
   "id": "bf6d0ce6",
   "metadata": {},
   "source": [
    "Keeping in mind the <b>research question</b>: How many citations (according to COCI) involve, either as citing or cited entities, publications in SSH journals (according to ERIH-PLUS) included in OpenCitations Meta? What are the disciplines that cites the most and those cited the most? How many citations start from and go to publications in OpenCitations Meta that are not included in SSH journals?\n",
    "\n",
    "I have started by downloading the data necessary for the purpose."
   ]
  },
  {
   "cell_type": "markdown",
   "id": "3cb781c7",
   "metadata": {},
   "source": [
    "- Meta: i have downloaded the csv dataset of Open Citations Meta in order to analyse how the data are structured\n",
    "- COCI: I have done the same thing with the COCI dump\n",
    "- ERIH-PLUS list of approved journals"
   ]
  },
  {
   "cell_type": "markdown",
   "id": "41a8f731",
   "metadata": {},
   "source": [
    "## 28/3 abstract guidelines review + abstract redaction"
   ]
  },
  {
   "cell_type": "markdown",
   "id": "6f19441c",
   "metadata": {},
   "source": [
    "Then, after having analysed the data to understand how are they structured, I have proceeded by reading the <a href=\"https://www.emeraldgrouppublishing.com/how-to/authoring-editing-reviewing/write-article-abstract\">template</a> for writing the abstract.\n",
    "\n",
    "Noting some important features to follow:\n",
    "- the following sections are essential: Purpose, Study design/methodology/approach, Findings, Originality/value\n",
    "- maximum of 250 words (total)\n",
    "- language should be active rather than passive, e.g. “we carried out an analysis”\n",
    "- choose a category for the paper"
   ]
  },
  {
   "cell_type": "markdown",
   "id": "b8a8bb60",
   "metadata": {},
   "source": [
    "I have then started to think about the various points relating them to our research question:\n",
    "\n",
    "- Purpose: we want to find out\n",
    "    1. by looking at citations data contained in <b>COCI</b>, the <b>number of citations</b> included in <b>Meta</b> which refer to publication in SSH (Social Sciences and Humanities) journals indicated in <b>ERIH-PLUS</b>\n",
    "    2. the disciplines <b>citing</b> the most VS the discilines <b>cited</b> the most\n",
    "    3. the citations from/to publication <b>contained in Meta</b> which are <b>not included in SSH journals</b>\n",
    "  we want to create a connection between these three different datasets for having an overall view of the citations present in each of them. \n",
    "- Methodology: we approach the problem from a computational point of view, by building a software able to analyse the data, query them in order to retrieve the info needed and to present the results in a clear and understandable way.\n",
    "- Findings: for what concerns the findings, we can see that there are no meaningful differences in the number of citations coming from differen disciplines, since it is related to the subject of the study, while the the ones cited the most belong to psychology, health and science studies.\n",
    "- Originality/Value: the research conducted by us can be defined as very valuable, since it adds information of existing resources with the aim of facilitating their use and allowing the users to have a clearer view of the data contained in each dataset. Further developement can be made, for example analysing other disciplines, to have the same overview as the one created by us but related to other fields."
   ]
  },
  {
   "cell_type": "markdown",
   "id": "a4383d24",
   "metadata": {},
   "source": [
    "We have then proceeded by writing out abstract."
   ]
  },
  {
   "cell_type": "code",
   "execution_count": null,
   "id": "a6ae0966",
   "metadata": {},
   "outputs": [],
   "source": []
  }
 ],
 "metadata": {
  "kernelspec": {
   "display_name": "Python 3 (ipykernel)",
   "language": "python",
   "name": "python3"
  },
  "language_info": {
   "codemirror_mode": {
    "name": "ipython",
    "version": 3
   },
   "file_extension": ".py",
   "mimetype": "text/x-python",
   "name": "python",
   "nbconvert_exporter": "python",
   "pygments_lexer": "ipython3",
   "version": "3.10.5"
  }
 },
 "nbformat": 4,
 "nbformat_minor": 5
}
