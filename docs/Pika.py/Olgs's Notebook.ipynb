{
 "cells": [
  {
   "cell_type": "markdown",
   "id": "e68e88af",
   "metadata": {},
   "source": [
    "# Pika.py Notebook for OpenScience 22/23"
   ]
  },
  {
   "cell_type": "markdown",
   "id": "f399136e",
   "metadata": {},
   "source": [
    "## lectures 22.3/23.3"
   ]
  },
  {
   "cell_type": "markdown",
   "id": "3cb781c7",
   "metadata": {},
   "source": [
    "- preliminar analysis of data (COCI and Meta) for writing the Abstract "
   ]
  }
 ],
 "metadata": {
  "kernelspec": {
   "display_name": "Python 3 (ipykernel)",
   "language": "python",
   "name": "python3"
  },
  "language_info": {
   "codemirror_mode": {
    "name": "ipython",
    "version": 3
   },
   "file_extension": ".py",
   "mimetype": "text/x-python",
   "name": "python",
   "nbconvert_exporter": "python",
   "pygments_lexer": "ipython3",
   "version": "3.10.5"
  }
 },
 "nbformat": 4,
 "nbformat_minor": 5
}
