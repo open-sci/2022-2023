{
 "cells": [
  {
   "cell_type": "markdown",
   "id": "7030c2e3-0713-48b1-90f6-095d511ed132",
   "metadata": {},
   "source": [
    "<h1 style=\"color:red\";> Our research question</h1>"
   ]
  },
  {
   "cell_type": "markdown",
   "id": "a19aee6e-d483-4495-a60e-bed5fe334221",
   "metadata": {},
   "source": [
    "<p>How many citations (according to <a href=\"http://opencitations.net/download#coci\"><b>COCI</b></a>) involve, either as citing or cited entities, publications in SSH journals (according to <a href=\"https://kanalregister.hkdir.no/publiseringskanaler/erihplus/periodical/listApproved\"><b>ERIH-PLUS</b></a>) included in <b>OpenCitations Meta</b>? What are the disciplines that cites the most and those cited the most? How many citations start from and go to publications in OpenCitations Meta that are not included in SSH journals?</p>\n"
   ]
  },
  {
   "cell_type": "markdown",
   "id": "43f89e4f-a021-43c4-abc6-35cc560ccfe2",
   "metadata": {
    "tags": []
   },
   "source": [
    "<h2 style=\"color:red;\">27/03</h2>"
   ]
  },
  {
   "cell_type": "markdown",
   "id": "5c022143-ebe9-4e6f-8344-4c6c86aa0e6b",
   "metadata": {},
   "source": [
    "<p>Today I started thinking about the abstract and first of all I have read <a href=\"https://www.emeraldgrouppublishing.com/how-to/authoring-editing-reviewing/write-article-abstract#structured-abstract\">the guideline</a> proposed by Emerald Publishing to sketch it.</p>\n",
    "<p><b>Maximum amout of words</b>: \"most journal author guidelines set a maximum of 250 words, including keywords and article classification\".</p>"
   ]
  },
  {
   "cell_type": "markdown",
   "id": "3cfd8143",
   "metadata": {},
   "source": [
    "<p>In order to try to figure out the methodology to follow to answer to our rearch question, I thought it could have been useful to start exploring the <b>structure of the data</b>. I've downloaded the list of approved journals in ERIH-PLUS in the csv format and also one archive of COCI's dump.</p>"
   ]
  },
  {
   "cell_type": "markdown",
   "id": "ec2ae90e-5b50-4a08-bf91-855b70a7b10c",
   "metadata": {},
   "source": [
    "<h4>ERIH PLUS data</h4>"
   ]
  },
  {
   "cell_type": "code",
   "execution_count": 1,
   "id": "2eb481dc-79a4-440a-8be0-12b9ef0b750a",
   "metadata": {},
   "outputs": [],
   "source": [
    "import pandas as pd\n",
    "df_ErihPlus = pd.read_csv(\"2023-03-27 ERIH PLUS approved journals and series.csv\", sep=\";\")"
   ]
  },
  {
   "cell_type": "code",
   "execution_count": 2,
   "id": "6960cbc9-43ab-4f93-8dfa-aa4bf7d05b77",
   "metadata": {},
   "outputs": [
    {
     "data": {
      "text/plain": [
       "Index(['Journal ID', 'Print ISSN', 'Online ISSN', 'Original Title',\n",
       "       'International Title', 'Country of Publication',\n",
       "       'ERIH PLUS Disciplines', 'OECD Classifications', '[Last Updated]'],\n",
       "      dtype='object')"
      ]
     },
     "execution_count": 2,
     "metadata": {},
     "output_type": "execute_result"
    }
   ],
   "source": [
    "df_ErihPlus.columns"
   ]
  },
  {
   "cell_type": "code",
   "execution_count": 3,
   "id": "a3e0e1bb-6c37-419b-97c1-89c398a3dc64",
   "metadata": {},
   "outputs": [
    {
     "data": {
      "text/plain": [
       "Journal ID                 int64\n",
       "Print ISSN                object\n",
       "Online ISSN               object\n",
       "Original Title            object\n",
       "International Title       object\n",
       "Country of Publication    object\n",
       "ERIH PLUS Disciplines     object\n",
       "OECD Classifications      object\n",
       "[Last Updated]            object\n",
       "dtype: object"
      ]
     },
     "execution_count": 3,
     "metadata": {},
     "output_type": "execute_result"
    }
   ],
   "source": [
    "df_ErihPlus.dtypes"
   ]
  },
  {
   "cell_type": "markdown",
   "id": "aa082649-72cf-419e-8a6c-d409998cda6a",
   "metadata": {},
   "source": [
    "<h4>COCI data</h4>"
   ]
  },
  {
   "cell_type": "code",
   "execution_count": 4,
   "id": "2061c6d4-f3e5-4940-a930-2350d56385c9",
   "metadata": {},
   "outputs": [],
   "source": [
    "import zipfile\n",
    "from os.path import exists\n",
    "\n",
    "def extract_file(input_dir, output_dir):\n",
    "    if not output_dir:\n",
    "            if not exists(output_dir):\n",
    "                makedirs(output_dir)\n",
    "    with zipfile.ZipFile(input_dir, 'r') as zip_ref:\n",
    "        zip_ref.extractall(output_dir)    "
   ]
  },
  {
   "cell_type": "code",
   "execution_count": 5,
   "id": "cb6f1967-c6c8-4849-bb5c-5b5e5873a24f",
   "metadata": {},
   "outputs": [],
   "source": [
    "extract_file(\"2022-12-31T201913_0-19_1.zip\", \"COCI_data\")"
   ]
  },
  {
   "cell_type": "markdown",
   "id": "41ba54e1-791c-45cc-a340-584fa9a7432b",
   "metadata": {},
   "source": [
    "<p>In each csv there are 7 columns: oci, citing (doi), cited (doi), creation (date), timespan, journal_sc (yes or no), author_sc(yes or no). The last two columns provide the information to know if the citing and cited entities share at least one author and if they have been published in the same journal.</p>\n",
    "<p>OCI is the OpenCitation identifier for the citation.</p>"
   ]
  }
 ],
 "metadata": {
  "kernelspec": {
   "display_name": "Python 3 (ipykernel)",
   "language": "python",
   "name": "python3"
  },
  "language_info": {
   "codemirror_mode": {
    "name": "ipython",
    "version": 3
   },
   "file_extension": ".py",
   "mimetype": "text/x-python",
   "name": "python",
   "nbconvert_exporter": "python",
   "pygments_lexer": "ipython3",
   "version": "3.9.1"
  }
 },
 "nbformat": 4,
 "nbformat_minor": 5
}
