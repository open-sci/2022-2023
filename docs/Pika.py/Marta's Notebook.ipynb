{
 "cells": [
  {
   "cell_type": "markdown",
   "id": "7030c2e3-0713-48b1-90f6-095d511ed132",
   "metadata": {},
   "source": [
    "<h1 style=\"color:red\";> Our research question</h1>"
   ]
  },
  {
   "cell_type": "markdown",
   "id": "a19aee6e-d483-4495-a60e-bed5fe334221",
   "metadata": {},
   "source": [
    "<p>How many citations (according to <a href=\"http://opencitations.net/download#coci\"><b>COCI</b></a>) involve, either as citing or cited entities, publications in SSH journals (according to <a href=\"https://kanalregister.hkdir.no/publiseringskanaler/erihplus/periodical/listApproved\"><b>ERIH-PLUS</b></a>) included in <b>OpenCitations Meta</b>? What are the disciplines that cites the most and those cited the most? How many citations start from and go to publications in OpenCitations Meta that are not included in SSH journals?</p>\n"
   ]
  },
  {
   "cell_type": "markdown",
   "id": "43f89e4f-a021-43c4-abc6-35cc560ccfe2",
   "metadata": {
    "tags": []
   },
   "source": [
    "<h2 style=\"color:red;\">27/03</h2>"
   ]
  },
  {
   "cell_type": "markdown",
   "id": "5c022143-ebe9-4e6f-8344-4c6c86aa0e6b",
   "metadata": {},
   "source": [
    "<p>Today I started thinking about the abstract and first of all I have read <a href=\"https://www.emeraldgrouppublishing.com/how-to/authoring-editing-reviewing/write-article-abstract#structured-abstract\">the guideline</a> proposed by Emerald Publishing to sketch it.</p>\n",
    "<p><b>Maximum amout of words</b>: \"most journal author guidelines set a maximum of 250 words, including keywords and article classification\".</p>"
   ]
  },
  {
   "cell_type": "markdown",
   "id": "3cfd8143",
   "metadata": {},
   "source": [
    "<p>In order to try to figure out the methodology to follow to answer to our rearch question, I thought it could have been useful to start exploring the <b>structure of the data</b>. I've downloaded the list of approved journals in ERIH-PLUS in the csv format and also one archive of COCI's dump.</p>"
   ]
  },
  {
   "cell_type": "markdown",
   "id": "ec2ae90e-5b50-4a08-bf91-855b70a7b10c",
   "metadata": {},
   "source": [
    "<h4>ERIH PLUS data</h4>"
   ]
  },
  {
   "cell_type": "code",
   "execution_count": 1,
   "id": "2eb481dc-79a4-440a-8be0-12b9ef0b750a",
   "metadata": {},
   "outputs": [],
   "source": [
    "import pandas as pd\n",
    "df_ErihPlus = pd.read_csv(\"2023-03-27 ERIH PLUS approved journals and series.csv\", sep=\";\")"
   ]
  },
  {
   "cell_type": "code",
   "execution_count": 2,
   "id": "6960cbc9-43ab-4f93-8dfa-aa4bf7d05b77",
   "metadata": {},
   "outputs": [
    {
     "data": {
      "text/plain": [
       "Index(['Journal ID', 'Print ISSN', 'Online ISSN', 'Original Title',\n",
       "       'International Title', 'Country of Publication',\n",
       "       'ERIH PLUS Disciplines', 'OECD Classifications', '[Last Updated]'],\n",
       "      dtype='object')"
      ]
     },
     "execution_count": 2,
     "metadata": {},
     "output_type": "execute_result"
    }
   ],
   "source": [
    "df_ErihPlus.columns"
   ]
  },
  {
   "cell_type": "code",
   "execution_count": 3,
   "id": "a3e0e1bb-6c37-419b-97c1-89c398a3dc64",
   "metadata": {},
   "outputs": [
    {
     "data": {
      "text/plain": [
       "Journal ID                 int64\n",
       "Print ISSN                object\n",
       "Online ISSN               object\n",
       "Original Title            object\n",
       "International Title       object\n",
       "Country of Publication    object\n",
       "ERIH PLUS Disciplines     object\n",
       "OECD Classifications      object\n",
       "[Last Updated]            object\n",
       "dtype: object"
      ]
     },
     "execution_count": 3,
     "metadata": {},
     "output_type": "execute_result"
    }
   ],
   "source": [
    "df_ErihPlus.dtypes"
   ]
  },
  {
   "cell_type": "markdown",
   "id": "aa082649-72cf-419e-8a6c-d409998cda6a",
   "metadata": {},
   "source": [
    "<h4>COCI data</h4>"
   ]
  },
  {
   "cell_type": "code",
   "execution_count": 4,
   "id": "2061c6d4-f3e5-4940-a930-2350d56385c9",
   "metadata": {},
   "outputs": [],
   "source": [
    "import zipfile\n",
    "from os.path import exists, makedirs\n",
    "\n",
    "def extract_file(input_dir, output_dir):\n",
    "    if not output_dir:\n",
    "            if not exists(output_dir):\n",
    "                makedirs(output_dir)\n",
    "    with zipfile.ZipFile(input_dir, 'r') as zip_ref:\n",
    "        zip_ref.extractall(output_dir)    "
   ]
  },
  {
   "cell_type": "code",
   "execution_count": 5,
   "id": "cb6f1967-c6c8-4849-bb5c-5b5e5873a24f",
   "metadata": {},
   "outputs": [],
   "source": [
    "extract_file(\"2022-12-31T201913_0-19_1.zip\", \"COCI_data\")"
   ]
  },
  {
   "cell_type": "markdown",
   "id": "41ba54e1-791c-45cc-a340-584fa9a7432b",
   "metadata": {},
   "source": [
    "<p>In each csv there are 7 columns: oci, citing (doi), cited (doi), creation (date), timespan, journal_sc (yes or no), author_sc(yes or no). The two columns provide the information to know if the citing and cited entities share at least one author and if they have been published in the same journal.</p>\n",
    "<p>OCI is the OpenCitation identifier for the citation.</p>"
   ]
  },
  {
   "cell_type": "markdown",
   "id": "25d90913-aa6d-4ba5-9211-ab31438bf858",
   "metadata": {},
   "source": [
    "<h2 style=\"color:red;\">28/03</h2>"
   ]
  },
  {
   "cell_type": "markdown",
   "id": "8cef4551-c338-40d8-9269-af0b28f18f35",
   "metadata": {},
   "source": [
    "<h4>Abstract</h4>"
   ]
  },
  {
   "cell_type": "markdown",
   "id": "65ef3633-1855-46f2-9b9b-6c3ba11409fc",
   "metadata": {},
   "source": [
    "<p>Today we met to write the abstract. The following is the first version of it:</p>\n",
    "<p>Purpose: we want to find out\n",
    "    <ol>\n",
    "    <li>by looking at citations data contained in COCI, the number of citations included in Meta which refer to publication in SSH (Social Sciences and Humanities) journals indicated in ERIH-PLUS</li>\n",
    "    <li>the disciplines citing the most VS the disciplines cited the most</li>\n",
    "    <li>the citations from/to publication contained in Meta which are not included in SSH journals</li> \n",
    "    </ol>\n",
    "We want to create a connection between these three different datasets for having an overall view of the citations present in each of them.</p>\n",
    "<p>\n",
    "Methodology: we approach the problem from a computational point of view, by building a python software able to analyse the data, querying them in order to retrieve the info needed and to present the results in a clear and understandable way.</p>\n",
    "<p>\n",
    "Findings: for what concerns the findings, we can see that there are no meaningful differences in the number of citations coming from different disciplines, since it is related to the subject of the study, while the ones cited the most belong to psychology, health and science studies.</p>\n",
    "<p>\n",
    "Originality/Value: the research conducted by us can be defined as very valuable, since it adds information to existing resources with the aim of facilitating their use and allowing the users to have a clearer view of the data contained in each dataset. Further development can be made, for example analysing other disciplines, to have the same overview as the one created by us but related to other fields.</p>\n",
    "\n",
    "<p>Keywords: OpenScience, Citation, OC-COCI, OC-Meta, ERIH-PLUS, journals</p>"
   ]
  },
  {
   "cell_type": "markdown",
   "id": "4d2d0e13-e9a0-44b4-8a35-fcaccfd7aea0",
   "metadata": {},
   "source": [
    "<h4>Data analysis</h4>"
   ]
  },
  {
   "cell_type": "markdown",
   "id": "ca201d15-88d8-43c7-8734-e4a41c738975",
   "metadata": {},
   "source": [
    "<p>I went on analysing the data we'll have to handle for the project, in particular, after having downloaded the META dump, I tried to figure the csv columns to use to create a connection between the three different datasets in order to answer to the research question.</p>"
   ]
  },
  {
   "cell_type": "markdown",
   "id": "1158cba6-bed8-404d-9056-8db769b5fe38",
   "metadata": {},
   "source": [
    "<img src=\"tables.png\">"
   ]
  },
  {
   "cell_type": "markdown",
   "id": "46087f05-f13c-4ab2-878a-4d345d5103ae",
   "metadata": {},
   "source": [
    "<p>COCI is the index of Crossref open DOI-to-DOI citations, and from the OpenCitation website we can read that COCI does not index Crossref references that are not open, nor Crossref open references to entities that lack DOIs. </p>"
   ]
  },
  {
   "attachments": {
    "b937c366-4e3e-488c-9700-efe7a92b62b0.png": {
     "image/png": "[encoded data removed]"
    }
   },
   "cell_type": "markdown",
   "id": "84479e50-1973-455d-bd73-3d160ef5d93a",
   "metadata": {},
   "source": [
    "![image.png](attachment:b937c366-4e3e-488c-9700-efe7a92b62b0.png)"
   ]
  },
  {
   "cell_type": "markdown",
   "id": "b4eabd7c-d801-4b82-9942-8b3cdcf1b154",
   "metadata": {},
   "source": [
    "<p>Every entity in OpenCitations Meta is assigned persistent internal identifier called OpenCitations Meta Identifier (OMID).</p>"
   ]
  },
  {
   "attachments": {
    "85419aa2-e068-406d-9054-f43a7e116c66.png": {
     "image/png": "[encoded data removed]"
    }
   },
   "cell_type": "markdown",
   "id": "73436d46-cb8f-41dc-a292-271993c2e50c",
   "metadata": {},
   "source": [
    "![image.png](attachment:85419aa2-e068-406d-9054-f43a7e116c66.png)"
   ]
  },
  {
   "attachments": {
    "8ad02bea-37d3-4eed-9234-6e1638ad8e0e.png": {
     "image/png": "[encoded data removed]"
    }
   },
   "cell_type": "markdown",
   "id": "5c9676ca-e284-4afd-b2df-3c33d76015f8",
   "metadata": {},
   "source": [
    "![image.png](attachment:8ad02bea-37d3-4eed-9234-6e1638ad8e0e.png)"
   ]
  },
  {
   "cell_type": "code",
   "execution_count": 4,
   "id": "c07e0e5a-06ff-488e-b39f-64ff4f61fa3f",
   "metadata": {},
   "outputs": [],
   "source": [
    "import pandas as pd\n",
    "Meta_csv = pd.read_csv(\"0.csv\", sep=\",\")"
   ]
  },
  {
   "cell_type": "code",
   "execution_count": 6,
   "id": "8084687f-b679-4ada-8e45-a1a548ae5385",
   "metadata": {},
   "outputs": [
    {
     "data": {
      "text/plain": [
       "id            object\n",
       "title         object\n",
       "author        object\n",
       "issue         object\n",
       "volume       float64\n",
       "venue         object\n",
       "page          object\n",
       "pub_date      object\n",
       "type          object\n",
       "publisher     object\n",
       "editor        object\n",
       "dtype: object"
      ]
     },
     "execution_count": 6,
     "metadata": {},
     "output_type": "execute_result"
    }
   ],
   "source": [
    "Meta_csv.dtypes"
   ]
  },
  {
   "cell_type": "markdown",
   "id": "3b8affea-58ea-40a4-9eb7-4f465f245d95",
   "metadata": {},
   "source": [
    "<p>So in order to connect Meta and the ERIH PLUS csv we have to take into account the ISSN</p>"
   ]
  },
  {
   "attachments": {
    "388f93d7-64b7-4388-b4a0-71f997c5d8d0.png": {
     "image/png": "[encoded data removed]"
    }
   },
   "cell_type": "markdown",
   "id": "468ca302-91f8-4c45-aa47-1864880d81b1",
   "metadata": {},
   "source": [
    "![image.png](attachment:388f93d7-64b7-4388-b4a0-71f997c5d8d0.png)"
   ]
  }
 ],
 "metadata": {
  "kernelspec": {
   "display_name": "Python 3 (ipykernel)",
   "language": "python",
   "name": "python3"
  },
  "language_info": {
   "codemirror_mode": {
    "name": "ipython",
    "version": 3
   },
   "file_extension": ".py",
   "mimetype": "text/x-python",
   "name": "python",
   "nbconvert_exporter": "python",
   "pygments_lexer": "ipython3",
   "version": "3.9.1"
  }
 },
 "nbformat": 4,
 "nbformat_minor": 5
}
