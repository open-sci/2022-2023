{
 "cells": [
  {
   "attachments": {},
   "cell_type": "markdown",
   "metadata": {
    "id": "NCdiQcWVbejg"
   },
   "source": [
    "### 23-03-2023-night> Ok. it is going to be alot of fun. i need to review papers for having a meaningful abstract with high hopes to become an accepted paper leter. here i write my own diary by using my brain, google search engine, stackoverflow, and chatGPT for sure.\n",
    "\n"
   ]
  },
  {
   "attachments": {},
   "cell_type": "markdown",
   "metadata": {
    "id": "F7nqI2KLHrnh"
   },
   "source": [
    "**RQ1: What is the coverage of publications in Social Science and Humanities (SSH) journals (according to ERIH-PLUS) included in OpenCitations Meta? What are the disciplines that have more publications? What are countries providing the largest number of publications and journals? How many of the SSH journals are available in Open Access according to the data in DOAJ?**\n",
    "\n",
    "To address this research question, we will need to work with multiple data sources: ERIH-PLUS, OpenCitations Meta, and DOAJ. we'll need to write Python code to fetch, process, and analyze the data. Here's a high-level outline of the steps we should follow:\n",
    "\n",
    "- Fetch the list of Social Science and Humanities (SSH) journals from ERIH-PLUS.\n",
    "- Fetch publications from OpenCitations Meta.\n",
    "- Filter publications from SSH journals.\n",
    "- Analyze the coverage of publications in SSH journals.\n",
    "- Identify the disciplines with the most publications.\n",
    "- Identify the countries providing the largest number of publications and journals.\n",
    "- Fetch the list of Open Access journals from DOAJ.\n",
    "- Compare the list of SSH journals with the list of Open Access journals.\n",
    "\n"
   ]
  },
  {
   "attachments": {},
   "cell_type": "markdown",
   "metadata": {
    "id": "S8H2gmEbHwz1"
   },
   "source": [
    "*Here's a raw template based on keywords in RQ1, to start thinking with my teamates for upcoming meeting:*"
   ]
  },
  {
   "cell_type": "code",
   "execution_count": null,
   "metadata": {
    "id": "qrylP8ONbZLu"
   },
   "outputs": [],
   "source": [
    "\n",
    "# 1. Fetch the list of SSH journals from ERIH-PLUS\n",
    "# (Replace the API URL and parameters according to the ERIH-PLUS API documentation)\n",
    "erih_plus_api_url = \"examplehttps://erihplusapi.example.com/journals\"\n",
    "erih_plus_response = requests.get(erih_plus_api_url)\n",
    "erih_plus_data = erih_plus_response.json()\n",
    "erih_plus_journals = {j[\"id\"]: j for j in erih_plus_data[\"journals\"]}\n",
    "\n",
    "# 2. Fetch publications from OpenCitations Meta\n",
    "# (Replace the API URL and parameters according to the OpenCitations Meta API documentation)\n",
    "open_citations_api_url = \"examplehttps://opencitationsmeta.example.com/publications\"\n",
    "open_citations_response = requests.get(open_citations_api_url)\n",
    "open_citations_data = open_citations_response.json()\n",
    "publications = open_citations_data[\"publications\"]\n",
    "\n",
    "# 3. Filter publications from SSH journals\n",
    "ssh_publications = [pub for pub in publications if pub[\"journal_id\"] in erih_plus_journals]\n",
    "\n",
    "# 4. Analyze the coverage of publications in SSH journals\n",
    "coverage = len(ssh_publications) / len(publications)\n",
    "\n",
    "# 5. Identify the disciplines with the most publications\n",
    "disciplines = [erih_plus_journals[pub[\"journal_id\"]][\"discipline\"] for pub in ssh_publications]\n",
    "discipline_counts = Counter(disciplines).most_common()\n",
    "\n",
    "# 6. Identify the countries providing the largest number of publications and journals\n",
    "countries = [erih_plus_journals[pub[\"journal_id\"]][\"country\"] for pub in ssh_publications]\n",
    "country_counts_publications = Counter(countries).most_common()\n",
    "\n",
    "journal_countries = [journal[\"country\"] for journal in erih_plus_journals.values()]\n",
    "country_counts_journals = Counter(journal_countries).most_common()\n",
    "\n",
    "# 7. Fetch the list of Open Access journals from DOAJ\n",
    "# (Replace the API URL and parameters according to the DOAJ API documentation)\n",
    "doaj_api_url = \"https://doajapi.example.com/journals\"\n",
    "doaj_response = requests.get(doaj_api_url)\n",
    "doaj_data = doaj_response.json()\n",
    "doaj_journals = {j[\"id\"]: j for j in doaj_data[\"journals\"]}\n",
    "\n",
    "# 8. Compare the list of SSH journals with the list of Open Access journals\n",
    "ssh_open_access_journals = [journal for journal in erih_plus_journals.values() if journal[\"id\"] in doaj_journals]\n",
    "\n",
    "# Print results\n",
    "print(f\"Coverage of publications in SSH journals: {coverage * 100:.2f}%\")\n",
    "print(f\"Top disciplines with most publications: {discipline_counts}\")\n",
    "print(f\"Countries providing the largest number of publications: {country_counts_publications}\")\n",
    "print(f\"Countries providing the largest number of journals: {country_counts_journals}\")\n",
    "print(f\"Number of SSH journals available in Open Access: {len(ssh_open_access_journals)}\")\n",
    "\n",
    "# Optional: Save the results in a JSON or CSV file\n",
    "results = {\n",
    "    \"coverage\": coverage,\n",
    "    \"top_disciplines\": discipline_counts,\n",
    "    \"top_countries_publications\": country_counts_publications,\n",
    "    \"top_countries_journals\": country_counts_journals,\n",
    "    \"open_access_ssh_journals\": len(ssh_open_access_journals),\n",
    "}\n",
    "\n",
    "with open(\"results.json\", \"w\") as f:\n",
    "    json.dump(results, f)\n",
    "\n"
   ]
  },
  {
   "attachments": {},
   "cell_type": "markdown",
   "metadata": {
    "id": "S4iJ7myOxtds"
   },
   "source": [
    "### 24-03-203-morning> i have started reading some bibliography for \"Reproducibility\""
   ]
  },
  {
   "attachments": {},
   "cell_type": "markdown",
   "metadata": {
    "id": "4Yj1DRVVyat4"
   },
   "source": [
    "\n",
    "\n",
    "*   **\"The good, the efficient and the open—Changing research workflows and the need to move from Open Access to Open Science\"**: focused on the need to move beyond open access to embrace the broader concept of open science. Open science involves not only providing open access to research outputs, but also opening up the entire research process, including data, methods, and software. This shift towards more open and transparent research workflows has been gaining momentum in recent years, and is seen by many as essential for advancing scientific knowledge and addressing societal challenges.\n",
    "*   **Quantifying the reproducibility of scientometric analyses: a case study**: \n",
    "questions of interest in this article: \n",
    "  1. Which and to what extent are the reproducibility artifacts available?\n",
    "  2. Which type of database has been used?\n",
    "  3. What databases are used regularly?\n",
    "  4. How many databases are used?\n",
    "  5. Which type of software is used regularly?\n",
    "  6. Are the codes used for data analysis available where ad-hoc software is used?\n",
    "\n",
    "*   **Ten Simple Rules for a Computational Biologist’s Laboratory Notebook**:\n",
    "  - Rule 1: Learn Your Institution’s or Laboratory’s Notebook Policy\n",
    "  - Rule 2: Select the Right Medium for Your Lab Notebook\n",
    "  - Rule 3: Make the Habit of Keeping the Lab Notebook in Your Desk\n",
    "  - Rule 4: Record All Scientific Activities in Your Lab Notebook\n",
    "  - Rule 5: Every Entry Should Be Recorded with a Date, Subject, and Protocol\n",
    "  - Rule 6: Keep a Record of How Every Result Was Produced\n",
    "  - Rule 7: Use Version Control for Models, Algorithms, and Computer Code\n",
    "  - Rule 8: Keep a Lab Notebook That Can Serve As a Legal Record of Your Work\n",
    "  - Rule 9: Create a Table of Contents for Your Lab Notebook\n",
    "  - Rule 10: Protect Your Lab Notebook\n",
    "\n",
    "\n",
    "\n",
    "\n",
    "\n",
    "\n",
    "\n"
   ]
  },
  {
   "attachments": {},
   "cell_type": "markdown",
   "metadata": {},
   "source": [
    "### Meanwhile first draft for Abstract:"
   ]
  },
  {
   "attachments": {},
   "cell_type": "markdown",
   "metadata": {
    "id": "V6yMtuosKSJo"
   },
   "source": [
    "\n",
    "\n",
    "**Title**: Open Access and Coverage Analysis of Social Science and Humanities Journals in OpenCitations Meta\n",
    "\n",
    "**Purpose**: This project aims to assess the coverage and open access status of publications in Social Science and Humanities (SSH) journals, as classified by ERIH-PLUS, within the OpenCitations Meta dataset. We investigate the disciplines with the highest number of publications, the countries contributing the most to publication and journal counts, and the proportion of SSH journals available in Open Access as per the Directory of Open Access Journals (DOAJ).\n",
    "\n",
    "**Study design/methodology/approach**: Utilizing data from multiple sources, including ERIH-PLUS, OpenCitations Meta, and DOAJ, we perform a comprehensive analysis by fetching, processing, and analyzing the data using Python programming. This approach allows for a detailed examination of SSH publications in the context of open science.\n",
    "\n",
    "**Originality/value**: Our study provides valuable insights into the current state of SSH publications, contributing to the understanding of open access trends and the visibility of SSH research.\n",
    "\n",
    "**Research limitations/implications**: The main limitation of our study is the reliance on publicly available data, which might not encompass the entire landscape of SSH publications. Furthermore, the rapidly changing nature of open access policies and journal classifications may affect the results.\n",
    "Practical implications: The findings of our study can inform researchers, publishers, and policymakers on the current state of SSH publications and open access trends. This information can be used to develop strategies and initiatives to further enhance the visibility and accessibility of SSH research, promoting the adoption of open science practices.\n",
    "\n",
    "**Social implications**: By shedding light on the coverage and open access status of SSH journals, our study has the potential to contribute to a more equitable and accessible scholarly communication landscape. Increased open access to SSH research can enable broader societal engagement, foster cross-disciplinary collaboration, and promote the dissemination of knowledge to a wider audience.\n",
    "\n",
    "**Keywords**: Open Access, Social Science and Humanities, OpenCitations Meta, ERIH-PLUS, DOAJ, scholarly communication, open science"
   ]
  },
  {
   "attachments": {},
   "cell_type": "markdown",
   "metadata": {
    "id": "1eK4bAGjHEb-"
   },
   "source": [
    "### 27-03-2023-afternoon-meeting> "
   ]
  },
  {
   "attachments": {},
   "cell_type": "markdown",
   "metadata": {},
   "source": [
    "during the meeting we have reviewed and revised the first draft i proposed. thank to [Maddalena](https://github.com/open-sci/2022-2023/blob/main/docs/Playarists/Maddalena_notebook.ipynb) we could write better during the meeting."
   ]
  },
  {
   "attachments": {},
   "cell_type": "markdown",
   "metadata": {
    "collapsed": false
   },
   "source": [
    "### 28-03-2023-night> "
   ]
  },
  {
   "attachments": {},
   "cell_type": "markdown",
   "metadata": {},
   "source": [
    "i have read revised abstract by [Maddalena](https://github.com/open-sci/2022-2023/blob/main/docs/Playarists/Maddalena_notebook.ipynb) and [Seba](https://github.com/open-sci/2022-2023/blob/main/docs/Playarists/Sebastiano's%20Notebook.ipynb). i think we are in good direction. i need to do execute some of my codes that earlier i proposed."
   ]
  },
  {
   "attachments": {},
   "cell_type": "markdown",
   "metadata": {
    "collapsed": false
   },
   "source": [
    "### 29-03-2023-morning> \n"
   ]
  },
  {
   "attachments": {},
   "cell_type": "markdown",
   "metadata": {},
   "source": [
    "i quickly have read the article, \"Why don't we share data and code? Perceived barriers and benefits to public archiving practices\", i am thinking about if our abstract could mention some of the barriers and benefits to data and code sharing that are discussed in the article. abstract could discuss how some of the barriers identified in the article such as knowledge barriers and concerns about the reuse of data and code? but how? Highlighting the benefits of data and code sharing that are identified in the article, such as increased collaboration efficiency?"
   ]
  },
  {
   "attachments": {},
   "cell_type": "markdown",
   "metadata": {
    "collapsed": false
   },
   "source": []
  },
  {
   "attachments": {},
   "cell_type": "markdown",
   "metadata": {},
   "source": [
    "### 31-03-2023-morning>"
   ]
  },
  {
   "attachments": {},
   "cell_type": "markdown",
   "metadata": {},
   "source": [
    "i tried to learn about CWL. i did implement my first CWL as follows and they are in new folder name [ali-experiment-folder](https://github.com/open-sci/2022-2023/tree/main/docs/Playarists/ali-experiment-folder):\n",
    "\n",
    "- i installed cwtool with pip\n",
    "- created extract_pubid.py to extract publication id column from ERIH-PLUS.csv\n",
    "- created file extract_pubid.cwl to run the Python script with the input and output CSV files.\n",
    "- created file input.yaml, that is used to provide input values for CWL workflow. In a CWL workflow, input parameters are defined in the CWL  file, and input.yaml is used to assign values to those parameters\n",
    "- ran from python env terminal with this command: cwltool extract_pubyear.cwl input.yaml\n",
    "\n",
    "**successfully completed:**\n",
    "\n",
    "**INFO [job extract-pubid] completed success**\n",
    "{\n",
    "    \"extracted_pubid\": {\n",
    "        \"location\": \"file:///C:/Github/2022-2023/docs/playarists/ali-experiment-folder/pubid_output.csv\",\n",
    "        \"basename\": \"pubid_output.csv\",\n",
    "        \"class\": \"File\",\n",
    "        \"checksum\": \"sha1$9fcf1119bf25e4b8707d8bf5902a0445bf0a6d78\",\n",
    "        \"size\": 8028,\n",
    "        \"path\": \"C:\\\\Github\\\\2022-2023\\\\docs\\\\playarists\\\\ali-experiment-folder\\\\pubid_output.csv\"\n",
    "    }\n",
    "}**INFO Final process status is success**\n"
   ]
  },
  {
   "attachments": {},
   "cell_type": "markdown",
   "metadata": {},
   "source": [
    "### 02-04-2023-morning>"
   ]
  },
  {
   "attachments": {},
   "cell_type": "markdown",
   "metadata": {},
   "source": [
    "***i tried to think about data summary:***\n",
    "\n",
    "**1.1 Purpose of data collection/generation and its relation to the project objectives:**\n",
    "The purpose of the data collection and generation is to assess the state of the art of Social Science and Humanities journals' citation data coverage in OpenCitation databases and investigate how many of these are Open Access. The data will be used to analyze which countries and disciplines hold the most publications and journals. This information is essential to achieving the project's objectives of understanding the openness of Social Science and Humanities publications and promoting cross-disciplinary collaboration and wider dissemination of knowledge.\n",
    "\n",
    "**1.2 Types and formats of data generated/collected:**\n",
    "The project will generate and collect data in various formats, including CSV, JSON, and XML. The primary data types will include bibliographic metadata, citation data, and journal indexing information.\n",
    "\n",
    "**1.3 Re-use of existing data and how:**\n",
    "The project will make use of existing data from OpenCitations Meta, ERIH-PLUS, and DOAJ. These data sources will be fetched, filtered, and processed using Python programming language to obtain the required information for the study.\n",
    "\n",
    "**1.4 Origin of the data:**\n",
    "The data originates from the following sources:\n",
    "OpenCitations Meta: A database storing citations' bibliographic metadata\n",
    "ERIH-PLUS: An academic Social Science and humanities journal index\n",
    "DOAJ: An index of open access journals\n",
    "\n",
    "**1.5 Expected size of the data:**\n",
    "The expected size of the data will depend on the number of publications, journals, and citations analyzed. However, it is estimated that the final dataset will be in the range of several hundred megabytes to a few gigabytes.\n",
    "\n",
    "**1.6 Data utility:**\n",
    "The data generated and collected in this project will be useful for researchers, journal publishers, policymakers, and other stakeholders in the Social Science and Humanities domain. It will provide valuable insights into the openness of SSH publications, inform future open access initiatives, and enhance the understanding of citation data coverage in OpenCitation databases. Furthermore, the data can be used as a basis for further research in scientometrics and open science."
   ]
  },
  {
   "attachments": {},
   "cell_type": "markdown",
   "metadata": {},
   "source": [
    "### 02-04-2023-afternoon>"
   ]
  },
  {
   "attachments": {},
   "cell_type": "markdown",
   "metadata": {},
   "source": [
    "we had meeting and during meeting we decided to do as follows:\n",
    "\n",
    "DATASET 1\n",
    "1. data summary - madda\n",
    "2. reused data- madda\n",
    "3. fair data- madda\n",
    "4. allocation of resources-seba\n",
    "5. Data security - seba\n",
    "6. ethical aspects - seba\n",
    "\n",
    "DATASET 2\n",
    "1. data summary - seba\n",
    "2. reused data- ali\n",
    "3. fair data- madda\n",
    "4. allocation of resources- ali\n",
    "5. Data security - ali\n",
    "6. ethical aspects - ali\n"
   ]
  },
  {
   "attachments": {},
   "cell_type": "markdown",
   "metadata": {},
   "source": [
    "### 05-04-2023-afternoon>"
   ]
  },
  {
   "attachments": {},
   "cell_type": "markdown",
   "metadata": {},
   "source": [
    "i could not join to our meeting. i also did not do my part till today.\n",
    "Madda and Seba hold the meeting. grazie mille."
   ]
  },
  {
   "attachments": {},
   "cell_type": "markdown",
   "metadata": {},
   "source": [
    "### 06-04-2023-morning>"
   ]
  },
  {
   "attachments": {},
   "cell_type": "markdown",
   "metadata": {},
   "source": [
    "i am trying to keep things on track."
   ]
  },
  {
   "attachments": {},
   "cell_type": "markdown",
   "metadata": {},
   "source": [
    "### 06-04-2023-evening>"
   ]
  },
  {
   "attachments": {},
   "cell_type": "markdown",
   "metadata": {},
   "source": [
    "i did complete my part DMP for software dataset: reused data, allocation of resources, data security, ethical aspects.\n",
    "i believe it still needs further improvements."
   ]
  },
  {
   "attachments": {},
   "cell_type": "markdown",
   "metadata": {},
   "source": [
    "### 08-04-2023-evening>"
   ]
  },
  {
   "attachments": {},
   "cell_type": "markdown",
   "metadata": {},
   "source": [
    "we had meeting and we disscussedd about workflow design. "
   ]
  },
  {
   "attachments": {},
   "cell_type": "markdown",
   "metadata": {},
   "source": [
    "During meeting we disccussed about dealing with large csv for META. [Maddalena](https://github.com/open-sci/2022-2023/blob/main/docs/Playarists/Maddalena_notebook.ipynb) tried but her laptop ran out of memory. I did try \"Stream and process the data\", so instead of loading the entire file into memory, using a streaming approach to read and process the data in chunks. This way, I could work with the data without loading it all at once. "
   ]
  },
  {
   "attachments": {},
   "cell_type": "markdown",
   "metadata": {},
   "source": [
    "**In Python, I used the pandas library with the chunksize parameter to read and process CSV files in chunks. This code also selects three columns'id', 'title', and 'author'from the META csv dump files, and merges them in one csv and saves to file. it was just an experimnet to see how much time it takes to run.** \n",
    "\n",
    "**it took about 24minutes on my laptop (windows 11 pro, cpu core i7, 16gb ram)**"
   ]
  },
  {
   "cell_type": "code",
   "execution_count": null,
   "metadata": {},
   "outputs": [],
   "source": [
    "import os\n",
    "import pandas as pd\n",
    "import glob\n",
    "\n",
    "chunksize = 10 ** 5  # Adjust the chunksize according to your available memory\n",
    "input_directory = \"C:\\\\metacsv\\\\csv_dump\"  # Path to the directory containing the 22196 CSV files\n",
    "output_file = \"selected_columns_largefile.csv\"\n",
    "\n",
    "# Initialize the output file with the header\n",
    "header_written = False\n",
    "\n",
    "# Iterate through all CSV files in the input_directory\n",
    "for input_file in glob.glob(os.path.join(input_directory, \"*.csv\")):\n",
    "    with pd.read_csv(input_file, chunksize=chunksize) as reader:\n",
    "        for chunk in reader:\n",
    "            # Process each chunk (dataframe) here\n",
    "            # Select the columns 'id', 'title', and 'author'\n",
    "            selected_columns_chunk = chunk[['id', 'title', 'author']]\n",
    "\n",
    "            # Save the selected_columns_chunk to the output_file\n",
    "            if not header_written:\n",
    "                selected_columns_chunk.to_csv(output_file, mode='w', index=False)\n",
    "                header_written = True\n",
    "            else:\n",
    "                selected_columns_chunk.to_csv(output_file, mode='a', header=False, index=False)"
   ]
  },
  {
   "attachments": {},
   "cell_type": "markdown",
   "metadata": {},
   "source": [
    "Another option was using SPARQL and [Seba](https://github.com/open-sci/2022-2023/blob/main/docs/Playarists/Sebastiano's%20Notebook.ipynb) did try that part."
   ]
  },
  {
   "attachments": {},
   "cell_type": "markdown",
   "metadata": {},
   "source": [
    "### 12-04-2023-morning>"
   ]
  },
  {
   "attachments": {},
   "cell_type": "markdown",
   "metadata": {},
   "source": [
    "we are having a compact meeting from 10. we are working on finalizing draft on protocols.io"
   ]
  },
  {
   "attachments": {},
   "cell_type": "markdown",
   "metadata": {},
   "source": [
    "### 15-04-2023-evening>"
   ]
  },
  {
   "attachments": {},
   "cell_type": "markdown",
   "metadata": {},
   "source": [
    "For the upcoming Open Science course assignment, we were required to conduct a peer-review on the DMP developed by another team. This document can be accessed via the following link: https://doi.org/10.5281/zenodo.7794672 . \n",
    "\n",
    "A key resource that has been instrumental in guiding the creation of the review is an article by Stiller-Reeve, M. (2018) titled \"How to write a thorough peer review,\" published in Nature. The article can be found at https://doi.org/10.1038/d41586-018-06991-0.\n"
   ]
  },
  {
   "attachments": {},
   "cell_type": "markdown",
   "metadata": {},
   "source": [
    "### 16-04-2023-evening>"
   ]
  },
  {
   "attachments": {},
   "cell_type": "markdown",
   "metadata": {},
   "source": [
    "i finalized my review for Pika's group: https://doi.org/10.32388/7CLRJX"
   ]
  },
  {
   "attachments": {},
   "cell_type": "markdown",
   "metadata": {},
   "source": [
    "### 26-04-2023-morning>"
   ]
  },
  {
   "attachments": {},
   "cell_type": "markdown",
   "metadata": {},
   "source": [
    "I and Seba had a meeting in order to revise together the reviews made by Pika's group. We discussed about the main points to be improved on DMP and Protocols. \n",
    "\n",
    "Here is our conclusions which is summarized by [Seba](https://github.com/open-sci/2022-2023/blob/main/docs/Playarists/Sebastiano's%20Notebook.ipynb) in our shared Google Doc:\n",
    "\n",
    "DMP:\n",
    "- Lorenzo:\n",
    "We probably need to change the answer (No → Yes) for question section 3.1.1.3 and check whether we want to update the specified standards (NOTE: the following answers suggest that we need to present metadata, so it would be better to use controlled vocabularies).\n",
    "3.1.1.7, 3.1.1.8: a possible way to address this issue is to use the naming conventions provided by a controlled vocabulary (we should decide which one).\n",
    "Version number (3.1.1.9): remove the “if necessary”expression, maybe explain how the version number will be updated (is there a specific iter? → major vs minor changes (1 → 2 or 1 → 1.1)\n",
    "1.1.3, you answered to “What are the formats of the described generated/collected data?” with “Software” → we should make clear what’s the content of this dataset (either python script or a set of data, for instance in csv format) → should we ask the professor?\n",
    "- Sara:\n",
    "1.1.4: explain whether we have some authorisations to manipulate the original data and work on them → check for specific authorisations/licenses for each source.\n",
    "The back-up procedure described fit for purpose and multiple media are considered for it, but there is no considered measures to check the usability of the back-up copies: Is it enough to periodically check that our back-up can be accessed and used? We should check data has not been altered or corrupted (checksums could be a possible instrument to perform this). \n",
    "- PROTOCOL:\n",
    "correct the title, the OCMeta Dump Name, specify whether we want to publish our data in a repository (YES). Remove the SPARQL endpoint option, change “FALSE” to “UNKNOWN”\n",
    "2.1: provide more details of the script (enrich it)\n",
    "2.3: ??\n",
    "Choose a visualization instrument: website, slides, jupyternotebook\n"
   ]
  },
  {
   "attachments": {},
   "cell_type": "markdown",
   "metadata": {
    "collapsed": false
   },
   "source": [
    "### 28-04-2023-morning>\n"
   ]
  },
  {
   "attachments": {
    "image.png": {
     "image/png": "[encoded data removed]"
    }
   },
   "cell_type": "markdown",
   "metadata": {
    "collapsed": false
   },
   "source": [
    "I have started a mini personal project in parallel. i call it personalized mini-infrastructure. My goal is to enable myself to do daily practice of OpenScience in a more fluent way. based on some problems and difficulties I am facing with it. For now I concentrate on problems to keep my diary up to date.\n",
    "\n",
    "One problem is that after a while I wanted to add navigation feature for my notebook, navigating notebook based on dates for example. Like Seba did in his notebook. But he did it more or less from the very begining.\n",
    "\n",
    "I create a python prgoram to do it automatically as follows:\n",
    "\n",
    "- The code begins by opening the \"Ali-diary-notebook.ipynb\" file in read mode using the open() function and assigns the file object to the variable f. The with statement is used to ensure that the file is properly closed after reading.\n",
    "\n",
    "- The json.load(f) function is used to load the contents of the Jupyter Notebook file into the variable notebook_data. The json.load() function reads the file object f and converts the JSON data into a Python object. \n",
    "\n",
    "- The code defines a function called extract_dates_from_cells(notebook_data). This function takes the notebook_data as input and extracts dates from the Markdown cells in the notebook. It iterates over the cells in notebook_data[\"cells\"] and checks if the cell type is markdown. If it is, it joins the source lines of the cell into a single string and uses regular expressions (re.findall()) to find date patterns in the cell content. The extracted dates are added to a set called dates.\n",
    "\n",
    "- The code defines another function called generate_anchor_tags(notebook_data, dates). This function generates anchor tags for the dates found in the notebook. It iterates over the cells in notebook_data[\"cells\"] and checks if the cell type is \"markdown\". If it is, it joins the source lines of the cell into a single string. Then, for each date in the dates set, it creates an anchor tag HTML string with the format <a id=\"date-{date.replace(\"-\", \"-\")}\"></a>{date}. The date in the cell content is replaced with the anchor tag string. Finally, the modified cell content is split back into lines and assigned back to the cell's source.\n",
    "\n",
    "- The code defines a function called insert_date_links_in_template(notebook_data, date_links). This function inserts the generated date links into a specific template in the notebook. It joins the date_links list into a single string and then iterates over the cells in notebook_data[\"cells\"]. If a cell is of type \"markdown\" and contains the specific template string , it replaces that template string with the date_links_str. The modified cell content is split back into lines and assigned back to the cell's source. This function breaks the loop after updating the first matching cell.\n",
    "\n",
    "- The extract_dates_from_cells(notebook_data) function is called, and the extracted dates are stored in the variable dates.\n",
    "\n",
    "- The generate_anchor_tags(notebook_data, dates) function is called with the notebook_data and dates as inputs. This function adds anchor tags to the Markdown cells in notebook_data using the dates.\n",
    "\n",
    "- The code generates date links based on the extracted dates by calling a function generate_date_links(dates) (which is not shown in the provided code). The resulting date links are stored in the variable date_links.\n",
    "\n",
    "- The insert_date_links_in_template(notebook_data_with_anchor_tags, date_links) function is called with notebook_data_with_anchor_tags (the notebook data with anchor tags) and date_links as inputs. This function inserts the date links into a specific template in the notebook.\n",
    "\n",
    "- Finally, the updated notebook_data_with_date_links is saved back to the \"Ali-diary-notebook.ipynb\" file, like this:\n",
    "\n",
    "![image.png](attachment:image.png)\n",
    "\n"
   ]
  },
  {
   "attachments": {},
   "cell_type": "markdown",
   "metadata": {},
   "source": [
    "### 02-04-2023>\n"
   ]
  },
  {
   "attachments": {},
   "cell_type": "markdown",
   "metadata": {},
   "source": [
    "I wrote a summary rebuttal letter to include our specific changes. We had a group meeting to discuss about the rebuttal letter and the changes we made. Madda and Seba added their comments to the letter.\n",
    "Then we published the new dmp on Zenodo obtaining a new  <a href=\"https://doi.org/10.5281/zenodo.7887693\">doi</a> "
   ]
  },
  {
   "attachments": {},
   "cell_type": "markdown",
   "metadata": {
    "collapsed": false
   },
   "source": [
    "### 03-05-23>"
   ]
  },
  {
   "attachments": {},
   "cell_type": "markdown",
   "metadata": {},
   "source": [
    "we organized another group meeting to review the protocol and address the suggested revisions. During this meeting, Madda drafted the rebuttal letters. In preparation for the next version of the protocol, we scheduled another meeting to discuss additional changes that we intend to incorporate."
   ]
  },
  {
   "attachments": {},
   "cell_type": "markdown",
   "metadata": {},
   "source": [
    "### 07-05-23 - 09-05-23 >\n"
   ]
  },
  {
   "attachments": {},
   "cell_type": "markdown",
   "metadata": {},
   "source": [
    "I did provide a working template in ython code to run our workflow. specifically part 1.1 and 1.2 to retrieve OpenCitation Meta publication and Journals that are registered in ERIH-PLUS index. and I updated it in code repo. https://github.com/open-sci/2022-2023-playarists-code\n",
    "\n"
   ]
  },
  {
   "attachments": {},
   "cell_type": "markdown",
   "metadata": {},
   "source": [
    "### 11-05-23>"
   ]
  },
  {
   "attachments": {},
   "cell_type": "markdown",
   "metadata": {},
   "source": [
    "during these days, i keep thinking about my mini-infrastucture project. Another problem I would like to address is that, people like me who has a little ADHD-like problem, it is very difficult to keep focus on task of writing."
   ]
  },
  {
   "attachments": {},
   "cell_type": "markdown",
   "metadata": {},
   "source": [
    "### 12-05-23>"
   ]
  },
  {
   "attachments": {},
   "cell_type": "markdown",
   "metadata": {},
   "source": [
    "- **Madda revised code line by line and made helpful questions and comments.**\n",
    "- **Seba made many improvements to get better results.**\n"
   ]
  },
  {
   "attachments": {},
   "cell_type": "markdown",
   "metadata": {},
   "source": [
    "##### i tried and did provide a OOP approach to our code, after Seba's updates:\n",
    "https://github.com/open-sci/2022-2023-playarists-code/tree/main/oop-approach "
   ]
  },
  {
   "attachments": {},
   "cell_type": "markdown",
   "metadata": {},
   "source": [
    "- The script defines a class called PlayaristProcessor, which handles the processing of data files.\n",
    "\n",
    "- The PlayaristProcessor class has methods to process files, retrieve data from the ERIH PLUS dataset, and run the entire data processing workflow.\n",
    "\n",
    "- The process_files method processes a list of CSV files in batches. It uses the ProcessPoolExecutor to parallelize the processing of files, optimizing performance. The results are combined into a single DataFrame and aggregated based on specific columns.\n",
    "\n",
    "- The get_erih_plus_dict method loads data from the ERIH PLUS dataset (in CSV format) into a dictionary, mapping ISSNs to journal IDs.\n",
    "\n",
    "- The run_workflow method orchestrates the entire data processing workflow. It retrieves a list of CSV files from a specific directory, processes them using the process_files method, and stores the resulting DataFrame. It then processes the DataFrame using the DOAJProcessor class from a custom module called doaj_processing. Finally, it prints the expected outputs for parts 1.1 and 1.2 and saves the final DataFrame to a CSV file named 'resultDf.csv'.\n",
    "\n",
    "- The main function parses command-line arguments using the argparse module. It allows the user to specify parameters such as batch size, maximum workers, paths to the ERIH PLUS dataset, and the DOAJ file.\n",
    "\n",
    "- An instance of the PlayaristProcessor class is created with the parsed command-line arguments.\n",
    "\n",
    "- The run_workflow method is called on the PlayaristProcessor instance, executing the entire data processing workflow."
   ]
  },
  {
   "attachments": {},
   "cell_type": "markdown",
   "metadata": {},
   "source": [
    "### 27-05-23>"
   ]
  },
  {
   "attachments": {},
   "cell_type": "markdown",
   "metadata": {},
   "source": [
    "I created a CWL test workflow while Seba was working on test.py. The main motivation behind this was to achieve Continuous Workflow Integration using GitHub Actions and the Common Workflow Language (CWL). You can find the CWL test workflow in the following link: https://github.com/ghasempouri1984/test-workflow\n",
    "\n",
    "I was able to successfully run the workflow for a specific case. Here are the inputs I used in the input.yml file:\n",
    "\n",
    "        script:\n",
    "        class: File\n",
    "        location: run_workflow.py\n",
    "        oc_meta:\n",
    "        class: Directory\n",
    "        location: csv_dump/\n",
    "        erih_plus:\n",
    "        class: File\n",
    "        location: ERIHPLUSapprovedJournals.csv\n",
    "        doaj:\n",
    "        class: File\n",
    "        location: journalcsv__doaj.csv\n",
    "\n",
    "The expected output, as defined in the run_workflow.cwl file, was as follows:\n",
    "\n",
    "        outputs:\n",
    "            result:\n",
    "                type: stdout\n",
    "            OCMeta_DOAJ_ErihPlus_merged:\n",
    "                type: File\n",
    "                outputBinding:\n",
    "                glob: \"SSH_Publications_in_OC_Meta_and_Open_Access_status.csv\"\n",
    "\n",
    "I initially intended to incorporate Seba's test.py into the workflow. However, due to my limited skills, I couldn't successfully integrate it. As a result, we decided to keep it in my public personal repository, which can be accessed through this link: https://github.com/ghasempouri1984/test-workflow. "
   ]
  },
  {
   "attachments": {},
   "cell_type": "markdown",
   "metadata": {},
   "source": [
    "Another task involved creating a Streamlit app for our visualization, which I deployed using Streamlit.io. The purpose behind this was to provide a user-friendly interface for interacting with the visualizations. However, I encountered a limitation where I couldn't use our main repository \"open-sci/2022-2023-playarists-code\" because Streamlit.io does not allow the use of repositories that are not associated with the GitHub account I signed in with. As a solution, I migrated to a forked repository located at: https://github.com/ghasempouri1984/2022-2023-playarists-code\n",
    "\n",
    "It would be beneficial to have this functionality in our main repository, as it would enable the visualizations to automatically update whenever a user reproduces the results or uses an updated CSV file.\n",
    "\n",
    "\n"
   ]
  },
  {
   "attachments": {},
   "cell_type": "markdown",
   "metadata": {},
   "source": [
    "### 29-05-23>"
   ]
  },
  {
   "attachments": {},
   "cell_type": "markdown",
   "metadata": {},
   "source": [
    "It appears that we have completed the current tasks and uploaded all the necessary materials. I am enthusiastic about continuing this journey and exploring various avenues of research. There are several potential areas we can delve into, such as citation life cycles and citation networks.\n",
    "\n",
    "Additionally, I have been contemplating the creation of features from our tabular data for potential application in machine learning or deep learning tasks related to disambiguation or citation life cycle analysis.\n",
    "\n",
    "Furthermore, I have started thinking about the concept of mini-infrastructures, which would enable independent researchers to enhance their productivity in research practices. During a seminar, Professor Elena Giglia introduced us to various tools that promote openness in workflow. However, I noticed that there seems to be a lack of tools at the initial stages of research, which could be addressed.\n",
    "\n",
    "In conclusion, there is much more to explore and discuss. I am uncertain about how we will continue this journey with Professor Peroni and our other colleagues, but I am eager to explore new possibilities and contribute to the advancement of research in our field."
   ]
  }
 ],
 "metadata": {
  "accelerator": "GPU",
  "colab": {
   "collapsed_sections": [
    "NCdiQcWVbejg",
    "S4iJ7myOxtds",
    "Jd7sgLgsGgIb"
   ],
   "provenance": []
  },
  "gpuClass": "standard",
  "kernelspec": {
   "display_name": "melody",
   "language": "python",
   "name": "python3"
  },
  "language_info": {
   "codemirror_mode": {
    "name": "ipython",
    "version": 3
   },
   "file_extension": ".py",
   "mimetype": "text/x-python",
   "name": "python",
   "nbconvert_exporter": "python",
   "pygments_lexer": "ipython3",
   "version": "3.8.10"
  },
  "vscode": {
   "interpreter": {
    "hash": "170a328245d0e1a4bb63d314a83266da92cd76b0206a348c28e49ad9efbb43bf"
   }
  }
 },
 "nbformat": 4,
 "nbformat_minor": 0
}
