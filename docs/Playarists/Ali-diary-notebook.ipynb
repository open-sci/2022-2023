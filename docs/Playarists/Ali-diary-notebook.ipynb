{
 "cells": [
  {
   "cell_type": "markdown",
   "metadata": {
    "id": "NCdiQcWVbejg"
   },
   "source": [
    "### 23-03-2023-night> Ok. it is going to be alot of fun. i need to review papers for having a meaningful abstract with high hopes to become an accepted paper leter. here i write my own diary by using my brain, google search engine, stackoverflow, and chatGPT for sure.\n",
    "\n"
   ]
  },
  {
   "cell_type": "markdown",
   "metadata": {
    "id": "F7nqI2KLHrnh"
   },
   "source": [
    "**RQ1: What is the coverage of publications in Social Science and Humanities (SSH) journals (according to ERIH-PLUS) included in OpenCitations Meta? What are the disciplines that have more publications? What are countries providing the largest number of publications and journals? How many of the SSH journals are available in Open Access according to the data in DOAJ?**\n",
    "\n",
    "To address this research question, we will need to work with multiple data sources: ERIH-PLUS, OpenCitations Meta, and DOAJ. we'll need to write Python code to fetch, process, and analyze the data. Here's a high-level outline of the steps we should follow:\n",
    "\n",
    "- Fetch the list of Social Science and Humanities (SSH) journals from ERIH-PLUS.\n",
    "- Fetch publications from OpenCitations Meta.\n",
    "- Filter publications from SSH journals.\n",
    "- Analyze the coverage of publications in SSH journals.\n",
    "- Identify the disciplines with the most publications.\n",
    "- Identify the countries providing the largest number of publications and journals.\n",
    "- Fetch the list of Open Access journals from DOAJ.\n",
    "- Compare the list of SSH journals with the list of Open Access journals.\n",
    "\n"
   ]
  },
  {
   "cell_type": "markdown",
   "metadata": {
    "id": "S8H2gmEbHwz1"
   },
   "source": [
    "*Here's a raw template based on keywords in RQ1, to start thinking with my teamates for upcoming meeting:*"
   ]
  },
  {
   "cell_type": "code",
   "execution_count": null,
   "metadata": {
    "id": "qrylP8ONbZLu"
   },
   "outputs": [],
   "source": [
    "\n",
    "# 1. Fetch the list of SSH journals from ERIH-PLUS\n",
    "# (Replace the API URL and parameters according to the ERIH-PLUS API documentation)\n",
    "erih_plus_api_url = \"examplehttps://erihplusapi.example.com/journals\"\n",
    "erih_plus_response = requests.get(erih_plus_api_url)\n",
    "erih_plus_data = erih_plus_response.json()\n",
    "erih_plus_journals = {j[\"id\"]: j for j in erih_plus_data[\"journals\"]}\n",
    "\n",
    "# 2. Fetch publications from OpenCitations Meta\n",
    "# (Replace the API URL and parameters according to the OpenCitations Meta API documentation)\n",
    "open_citations_api_url = \"examplehttps://opencitationsmeta.example.com/publications\"\n",
    "open_citations_response = requests.get(open_citations_api_url)\n",
    "open_citations_data = open_citations_response.json()\n",
    "publications = open_citations_data[\"publications\"]\n",
    "\n",
    "# 3. Filter publications from SSH journals\n",
    "ssh_publications = [pub for pub in publications if pub[\"journal_id\"] in erih_plus_journals]\n",
    "\n",
    "# 4. Analyze the coverage of publications in SSH journals\n",
    "coverage = len(ssh_publications) / len(publications)\n",
    "\n",
    "# 5. Identify the disciplines with the most publications\n",
    "disciplines = [erih_plus_journals[pub[\"journal_id\"]][\"discipline\"] for pub in ssh_publications]\n",
    "discipline_counts = Counter(disciplines).most_common()\n",
    "\n",
    "# 6. Identify the countries providing the largest number of publications and journals\n",
    "countries = [erih_plus_journals[pub[\"journal_id\"]][\"country\"] for pub in ssh_publications]\n",
    "country_counts_publications = Counter(countries).most_common()\n",
    "\n",
    "journal_countries = [journal[\"country\"] for journal in erih_plus_journals.values()]\n",
    "country_counts_journals = Counter(journal_countries).most_common()\n",
    "\n",
    "# 7. Fetch the list of Open Access journals from DOAJ\n",
    "# (Replace the API URL and parameters according to the DOAJ API documentation)\n",
    "doaj_api_url = \"https://doajapi.example.com/journals\"\n",
    "doaj_response = requests.get(doaj_api_url)\n",
    "doaj_data = doaj_response.json()\n",
    "doaj_journals = {j[\"id\"]: j for j in doaj_data[\"journals\"]}\n",
    "\n",
    "# 8. Compare the list of SSH journals with the list of Open Access journals\n",
    "ssh_open_access_journals = [journal for journal in erih_plus_journals.values() if journal[\"id\"] in doaj_journals]\n",
    "\n",
    "# Print results\n",
    "print(f\"Coverage of publications in SSH journals: {coverage * 100:.2f}%\")\n",
    "print(f\"Top disciplines with most publications: {discipline_counts}\")\n",
    "print(f\"Countries providing the largest number of publications: {country_counts_publications}\")\n",
    "print(f\"Countries providing the largest number of journals: {country_counts_journals}\")\n",
    "print(f\"Number of SSH journals available in Open Access: {len(ssh_open_access_journals)}\")\n",
    "\n",
    "# Optional: Save the results in a JSON or CSV file\n",
    "results = {\n",
    "    \"coverage\": coverage,\n",
    "    \"top_disciplines\": discipline_counts,\n",
    "    \"top_countries_publications\": country_counts_publications,\n",
    "    \"top_countries_journals\": country_counts_journals,\n",
    "    \"open_access_ssh_journals\": len(ssh_open_access_journals),\n",
    "}\n",
    "\n",
    "with open(\"results.json\", \"w\") as f:\n",
    "    json.dump(results, f)\n",
    "\n"
   ]
  },
  {
   "cell_type": "markdown",
   "metadata": {
    "id": "S4iJ7myOxtds"
   },
   "source": [
    "### 24-03-203-morning> i have started reading some bibliography for \"Reproducibility\""
   ]
  },
  {
   "cell_type": "markdown",
   "metadata": {
    "id": "4Yj1DRVVyat4"
   },
   "source": [
    "\n",
    "\n",
    "*   **\"The good, the efficient and the open—Changing research workflows and the need to move from Open Access to Open Science\"**: focused on the need to move beyond open access to embrace the broader concept of open science. Open science involves not only providing open access to research outputs, but also opening up the entire research process, including data, methods, and software. This shift towards more open and transparent research workflows has been gaining momentum in recent years, and is seen by many as essential for advancing scientific knowledge and addressing societal challenges.\n",
    "*   **Quantifying the reproducibility of scientometric analyses: a case study**: \n",
    "questions of interest in this article: \n",
    "  1. Which and to what extent are the reproducibility artifacts available?\n",
    "  2. Which type of database has been used?\n",
    "  3. What databases are used regularly?\n",
    "  4. How many databases are used?\n",
    "  5. Which type of software is used regularly?\n",
    "  6. Are the codes used for data analysis available where ad-hoc software is used?\n",
    "\n",
    "*   **Ten Simple Rules for a Computational Biologist’s Laboratory Notebook**:\n",
    "  - Rule 1: Learn Your Institution’s or Laboratory’s Notebook Policy\n",
    "  - Rule 2: Select the Right Medium for Your Lab Notebook\n",
    "  - Rule 3: Make the Habit of Keeping the Lab Notebook in Your Desk\n",
    "  - Rule 4: Record All Scientific Activities in Your Lab Notebook\n",
    "  - Rule 5: Every Entry Should Be Recorded with a Date, Subject, and Protocol\n",
    "  - Rule 6: Keep a Record of How Every Result Was Produced\n",
    "  - Rule 7: Use Version Control for Models, Algorithms, and Computer Code\n",
    "  - Rule 8: Keep a Lab Notebook That Can Serve As a Legal Record of Your Work\n",
    "  - Rule 9: Create a Table of Contents for Your Lab Notebook\n",
    "  - Rule 10: Protect Your Lab Notebook\n",
    "\n",
    "\n",
    "\n",
    "\n",
    "\n",
    "\n",
    "\n"
   ]
  },
  {
   "attachments": {},
   "cell_type": "markdown",
   "metadata": {},
   "source": [
    "### meanwhile first draft for Abstract:"
   ]
  },
  {
   "attachments": {},
   "cell_type": "markdown",
   "metadata": {
    "id": "V6yMtuosKSJo"
   },
   "source": [
    "\n",
    "\n",
    "**Title**: Open Access and Coverage Analysis of Social Science and Humanities Journals in OpenCitations Meta\n",
    "\n",
    "**Purpose**: This project aims to assess the coverage and open access status of publications in Social Science and Humanities (SSH) journals, as classified by ERIH-PLUS, within the OpenCitations Meta dataset. We investigate the disciplines with the highest number of publications, the countries contributing the most to publication and journal counts, and the proportion of SSH journals available in Open Access as per the Directory of Open Access Journals (DOAJ).\n",
    "\n",
    "**Study design/methodology/approach**: Utilizing data from multiple sources, including ERIH-PLUS, OpenCitations Meta, and DOAJ, we perform a comprehensive analysis by fetching, processing, and analyzing the data using Python programming. This approach allows for a detailed examination of SSH publications in the context of open science.\n",
    "\n",
    "**Originality/value**: Our study provides valuable insights into the current state of SSH publications, contributing to the understanding of open access trends and the visibility of SSH research.\n",
    "\n",
    "**Research limitations/implications**: The main limitation of our study is the reliance on publicly available data, which might not encompass the entire landscape of SSH publications. Furthermore, the rapidly changing nature of open access policies and journal classifications may affect the results.\n",
    "Practical implications: The findings of our study can inform researchers, publishers, and policymakers on the current state of SSH publications and open access trends. This information can be used to develop strategies and initiatives to further enhance the visibility and accessibility of SSH research, promoting the adoption of open science practices.\n",
    "\n",
    "**Social implications**: By shedding light on the coverage and open access status of SSH journals, our study has the potential to contribute to a more equitable and accessible scholarly communication landscape. Increased open access to SSH research can enable broader societal engagement, foster cross-disciplinary collaboration, and promote the dissemination of knowledge to a wider audience.\n",
    "\n",
    "**Keywords**: Open Access, Social Science and Humanities, OpenCitations Meta, ERIH-PLUS, DOAJ, scholarly communication, open science"
   ]
  },
  {
   "attachments": {},
   "cell_type": "markdown",
   "metadata": {
    "id": "1eK4bAGjHEb-"
   },
   "source": [
    "### 27-03-2023-afternoon-meeting> "
   ]
  },
  {
   "attachments": {},
   "cell_type": "markdown",
   "metadata": {},
   "source": [
    "during the meeting we have reviewed and revised the first draft i proposed. thank to Maddalena we could write better during the meeting."
   ]
  },
  {
   "attachments": {},
   "cell_type": "markdown",
   "metadata": {
    "collapsed": false
   },
   "source": [
    "### 28-03-2023-night> "
   ]
  },
  {
   "attachments": {},
   "cell_type": "markdown",
   "metadata": {},
   "source": [
    "i have read revised abstract by Maddalena and Seba. i think we are in good direction. i need to do execute some of my codes that earlier i proposed."
   ]
  },
  {
   "attachments": {},
   "cell_type": "markdown",
   "metadata": {
    "collapsed": false
   },
   "source": [
    "### 29-03-2023-morning> \n"
   ]
  },
  {
   "attachments": {},
   "cell_type": "markdown",
   "metadata": {},
   "source": [
    "i quickly have read the article, \"Why don't we share data and code? Perceived barriers and benefits to public archiving practices\", i am thinking about if our abstract could mention some of the barriers and benefits to data and code sharing that are discussed in the article. abstract could discuss how some of the barriers identified in the article such as knowledge barriers and concerns about the reuse of data and code? but how? Highlighting the benefits of data and code sharing that are identified in the article, such as increased collaboration efficiency?"
   ]
  },
  {
   "cell_type": "markdown",
   "metadata": {
    "collapsed": false
   },
   "source": []
  }
 ],
 "metadata": {
  "accelerator": "GPU",
  "colab": {
   "collapsed_sections": [
    "NCdiQcWVbejg",
    "S4iJ7myOxtds",
    "Jd7sgLgsGgIb"
   ],
   "provenance": []
  },
  "gpuClass": "standard",
  "kernelspec": {
   "display_name": "Python 3",
   "language": "python",
   "name": "python3"
  },
  "language_info": {
   "name": "python",
   "version": "3.10.9"
  },
  "vscode": {
   "interpreter": {
    "hash": "941edc6c791f9f215c20c93af0023e818e02030f9ef1c545652eca063ef06798"
   }
  }
 },
 "nbformat": 4,
 "nbformat_minor": 0
}
