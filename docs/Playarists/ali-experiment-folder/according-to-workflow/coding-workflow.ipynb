{
 "cells": [
  {
   "cell_type": "code",
   "execution_count": null,
   "metadata": {},
   "outputs": [],
   "source": [
    "import os\n",
    "import pandas as pd\n",
    "\n",
    "# Read ERIH-PLUS approved journals dataset\n",
    "erih_plus_df = pd.read_csv('ERIHPLUSapprovedJournals.csv')\n",
    "\n",
    "# Get the list of CSV files in the OpenCitations Meta data dump directory\n",
    "csv_directory = 'path/to/csv/files'\n",
    "csv_files = [f for f in os.listdir(csv_directory) if f.endswith('.csv')]\n",
    "\n",
    "# Initialize an empty dataframe for the mapping of OpenCitations Meta and ERIH-PLUS venue data\n",
    "mapping_df = pd.DataFrame(columns=['oc_omid', 'oc_issn', 'ep_id', 'ep_issn'])\n",
    "\n",
    "# Iterate over the CSV files\n",
    "for csv_file in csv_files:\n",
    "    # Read OpenCitations Meta data dump in chunks\n",
    "    chunksize = 10 ** 5\n",
    "    meta_data_chunks = pd.read_csv(os.path.join(csv_directory, csv_file), chunksize=chunksize, iterator=True)\n",
    "\n",
    "    # Iterate over the chunks of OpenCitations Meta data dump\n",
    "    for chunk in meta_data_chunks:\n",
    "        # Filter the chunk to include only venue information\n",
    "        venue_chunk = chunk[chunk['type'] == 'venue']\n",
    "\n",
    "        # Merge the ERIH-PLUS and OpenCitations Meta data on ISSN\n",
    "        merged_chunk = erih_plus_df.merge(venue_chunk, left_on=['print issn', 'online issn'], right_on=['issn'], how='inner')\n",
    "\n",
    "        # Keep only the relevant columns for the mapping dataframe\n",
    "        merged_chunk = merged_chunk[['oc_omid', 'oc_issn', 'journal id', 'issn']].rename(columns={'journal id': 'ep_id', 'issn': 'ep_issn'})\n",
    "\n",
    "        # Append the merged chunk to the mapping dataframe\n",
    "        mapping_df = mapping_df.append(merged_chunk, ignore_index=True)\n",
    "\n",
    "# Save the mapping dataframe as a CSV file\n",
    "mapping_df.to_csv('OpenCitations_Meta_ERIH_PLUS_mapping.csv', index=False)\n"
   ]
  },
  {
   "cell_type": "code",
   "execution_count": null,
   "metadata": {
    "collapsed": false
   },
   "outputs": [],
   "source": [
    "import pandas as pd\n",
    "\n",
    "# Read the DOAJ dump CSV file\n",
    "doaj_df = pd.read_csv('doaj_dump.csv')\n",
    "\n",
    "# Create a dictionary of Open Access ISSNs\n",
    "oa_issn_dict = {}\n",
    "for _, row in doaj_df.iterrows():\n",
    "    for issn_type in ['Print ISSN', 'Online ISSN']:\n",
    "        issn = row[issn_type]\n",
    "        if not pd.isna(issn):\n",
    "            oa_issn_dict[issn] = True\n",
    "\n",
    "# Read the mapping dataframe\n",
    "mapping_df = pd.read_csv('OpenCitations_Meta_ERIH_PLUS_mapping.csv')\n",
    "\n",
    "# Merge Open Access information with the main dataframe\n",
    "mapping_df['Open Access'] = mapping_df['ep_issn'].map(oa_issn_dict)\n",
    "\n",
    "# Fill missing values in the 'Open Access' column with 'Unknown'\n",
    "mapping_df['Open Access'] = mapping_df['Open Access'].fillna('Unknown')\n",
    "\n",
    "# Save the updated dataframe as a CSV file\n",
    "mapping_df.to_csv('OpenCitations_Meta_ERIH_PLUS_OA_mapping.csv', index=False)\n"
   ]
  }
 ],
 "metadata": {
  "kernelspec": {
   "display_name": "Python 3",
   "language": "python",
   "name": "python3"
  },
  "language_info": {
   "codemirror_mode": {
    "name": "ipython",
    "version": 2
   },
   "file_extension": ".py",
   "mimetype": "text/x-python",
   "name": "python",
   "nbconvert_exporter": "python",
   "pygments_lexer": "ipython2",
   "version": "3.8.10"
  }
 },
 "nbformat": 4,
 "nbformat_minor": 0
}
