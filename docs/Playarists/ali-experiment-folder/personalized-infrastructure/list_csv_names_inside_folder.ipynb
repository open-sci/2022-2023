{
 "cells": [
  {
   "cell_type": "code",
   "execution_count": 1,
   "metadata": {},
   "outputs": [
    {
     "name": "stdout",
     "output_type": "stream",
     "text": [
      "['0.csv', '11890.csv', '15654.csv', '15655.csv', '16937.csv', '16938.csv', '16939.csv', '16940.csv', '16941.csv', '16942.csv', '16943.csv', '16944.csv', '16945.csv', '16946.csv', '16947.csv', '19887.csv', '21794.csv', '21795.csv', '5872.csv', '6720.csv', '6721.csv', '9470.csv']\n"
     ]
    }
   ],
   "source": [
    "import os\n",
    "import glob\n",
    "\n",
    "def list_csv_files(directory):\n",
    "    os.chdir(directory)  # Change directory to the one you want to search in\n",
    "    csv_files = glob.glob('*.csv')  # This line selects all .csv files in the directory\n",
    "    #csv_files = glob.glob('**/*.csv', recursive=True)     #This will perform a recursive search that includes all subdirectories.\n",
    "    return csv_files\n",
    "\n",
    "directory = \"D:\\open-sci\\dump-files\\opencitations-meta\\partial_dump\"  # replace with your directory\n",
    "csv_files = list_csv_files(directory)\n",
    "print(csv_files)\n"
   ]
  },
  {
   "cell_type": "code",
   "execution_count": null,
   "metadata": {},
   "outputs": [],
   "source": [
    "\n"
   ]
  },
  {
   "cell_type": "code",
   "execution_count": null,
   "metadata": {},
   "outputs": [],
   "source": []
  }
 ],
 "metadata": {
  "kernelspec": {
   "display_name": "melody",
   "language": "python",
   "name": "python3"
  },
  "language_info": {
   "codemirror_mode": {
    "name": "ipython",
    "version": 3
   },
   "file_extension": ".py",
   "mimetype": "text/x-python",
   "name": "python",
   "nbconvert_exporter": "python",
   "pygments_lexer": "ipython3",
   "version": "3.9.16"
  },
  "orig_nbformat": 4
 },
 "nbformat": 4,
 "nbformat_minor": 2
}
