{
 "cells": [
  {
   "cell_type": "code",
   "execution_count": 44,
   "metadata": {},
   "outputs": [],
   "source": [
    "import json\n",
    "import re\n",
    "from IPython.display import display, HTML"
   ]
  },
  {
   "cell_type": "code",
   "execution_count": 45,
   "metadata": {},
   "outputs": [],
   "source": [
    "with open(\"diary-for-experiment.ipynb\", \"r\") as f:\n",
    "    notebook_data = json.load(f)\n"
   ]
  },
  {
   "cell_type": "code",
   "execution_count": 47,
   "metadata": {},
   "outputs": [],
   "source": [
    "def extract_dates_from_cells(notebook_data):\n",
    "    dates = set()\n",
    "    for cell in notebook_data[\"cells\"]:\n",
    "        if cell[\"cell_type\"] == \"markdown\":\n",
    "            cell_content = ''.join(cell[\"source\"])\n",
    "            cell_dates = re.findall(r\"(\\d{2}-\\d{2}-\\d{4})\", cell_content)\n",
    "            dates.update(cell_dates)\n",
    "    return dates\n"
   ]
  },
  {
   "cell_type": "code",
   "execution_count": 48,
   "metadata": {},
   "outputs": [],
   "source": [
    "dates = extract_dates_from_cells(notebook_data)\n"
   ]
  },
  {
   "cell_type": "code",
   "execution_count": 49,
   "metadata": {},
   "outputs": [
    {
     "name": "stdout",
     "output_type": "stream",
     "text": [
      "{'31-03-2023', '29-03-2023', '06-04-2023', '05-04-2023', '02-04-2023', '28-03-2023', '27-03-2023', '26-04-2023', '16-04-2023', '12-04-2023', '23-03-2023', '15-04-2023', '08-04-2023'}\n"
     ]
    }
   ],
   "source": [
    "print(dates)"
   ]
  },
  {
   "cell_type": "code",
   "execution_count": 50,
   "metadata": {},
   "outputs": [],
   "source": [
    "def generate_anchor_tags(notebook_data, dates):\n",
    "    for cell in notebook_data[\"cells\"]:\n",
    "        if cell[\"cell_type\"] == \"markdown\":\n",
    "            cell_content = ''.join(cell[\"source\"])\n",
    "            for date in dates:\n",
    "                anchor_tag = f'<a id=\"date-{date.replace(\"-\", \"-\")}\"></a>{date}'\n",
    "                cell_content = cell_content.replace(date, anchor_tag)\n",
    "            cell[\"source\"] = cell_content.splitlines(True)\n",
    "    return notebook_data\n",
    "\n"
   ]
  },
  {
   "cell_type": "code",
   "execution_count": 51,
   "metadata": {},
   "outputs": [],
   "source": [
    "def generate_date_links(dates):\n",
    "    date_links = \"\"\n",
    "    for date in sorted(dates):\n",
    "        date_links += f'<li><a href=\"#date-{date.replace(\"-\", \"-\")}\" style=\"color:#333; font-style: italic;\">{date}</a></li>\\n'\n",
    "    return date_links\n"
   ]
  },
  {
   "cell_type": "code",
   "execution_count": 52,
   "metadata": {},
   "outputs": [],
   "source": [
    "def insert_date_links_in_template(notebook_data, date_links):\n",
    "    for cell in notebook_data[\"cells\"]:\n",
    "        if cell[\"cell_type\"] == \"markdown\":\n",
    "            cell_content = ''.join(cell[\"source\"])\n",
    "            if \"<li><a href=\\\"\\\" style=\\\"color:#333; font-style: italic;\\\"></a></li>\" in cell_content:\n",
    "                cell_content = cell_content.replace(\"<li><a href=\\\"\\\" style=\\\"color:#333; font-style: italic;\\\"></a></li>\", date_links)\n",
    "                cell[\"source\"] = cell_content.splitlines(True)\n",
    "                break\n",
    "    return notebook_data\n"
   ]
  },
  {
   "cell_type": "code",
   "execution_count": null,
   "metadata": {},
   "outputs": [],
   "source": [
    "dates = extract_dates_from_cells(notebook_data)  # Extract dates\n",
    "notebook_data_with_anchor_tags = generate_anchor_tags(notebook_data, dates)  # Generate anchor tags\n",
    "date_links = generate_date_links(dates)  # Generate date links\n",
    "notebook_data_with_date_links = insert_date_links_in_template(notebook_data_with_anchor_tags, date_links)  # Insert date links into the template\n",
    "\n",
    "# Save the updated notebook data to a new Jupyter Notebook file\n",
    "with open(\"diary-for-experiment.ipynb\", \"w\") as f:\n",
    "    json.dump(notebook_data_with_date_links, f)\n"
   ]
  },
  {
   "cell_type": "code",
   "execution_count": 41,
   "metadata": {},
   "outputs": [],
   "source": [
    "date_links = generate_date_links(dates)\n",
    "notebook_data_with_date_links = insert_date_links_in_template(notebook_data_with_anchor_tags, date_links)\n"
   ]
  },
  {
   "cell_type": "code",
   "execution_count": 43,
   "metadata": {},
   "outputs": [],
   "source": [
    "with open(\"diary-for-experiment.ipynb\", \"w\") as f:\n",
    "    json.dump(notebook_data_with_date_links, f)\n"
   ]
  },
  {
   "cell_type": "markdown",
   "metadata": {},
   "source": [
    "notebook_data_with_anchor_tags = generate_anchor_tags(notebook_data, dates)"
   ]
  },
  {
   "cell_type": "markdown",
   "metadata": {},
   "source": [
    "with open(\"diary-for-experiment.ipynb\", \"w\") as f:\n",
    "    json.dump(notebook_data_with_anchor_tags, f)\n"
   ]
  }
 ],
 "metadata": {
  "kernelspec": {
   "display_name": "melody",
   "language": "python",
   "name": "python3"
  },
  "language_info": {
   "codemirror_mode": {
    "name": "ipython",
    "version": 3
   },
   "file_extension": ".py",
   "mimetype": "text/x-python",
   "name": "python",
   "nbconvert_exporter": "python",
   "pygments_lexer": "ipython3",
   "version": "3.9.16"
  },
  "orig_nbformat": 4
 },
 "nbformat": 4,
 "nbformat_minor": 2
}
