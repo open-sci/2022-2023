{
 "cells": [
  {
   "cell_type": "code",
   "execution_count": 1,
   "metadata": {},
   "outputs": [],
   "source": [
    "import os\n",
    "import pandas as pd\n",
    "import csv\n",
    "\n",
    "def detect_delimiter(file_path):\n",
    "    with open(file_path, 'r', newline='', encoding='utf-8') as file:\n",
    "        dialect = csv.Sniffer().sniff(file.read(1024))\n",
    "    return dialect.delimiter\n",
    "\n",
    "delimiter = detect_delimiter('ERIHPLUSapprovedJournals.csv')\n",
    "erih_plus_df = pd.read_csv('ERIHPLUSapprovedJournals.csv', sep=delimiter)"
   ]
  },
  {
   "cell_type": "code",
   "execution_count": 2,
   "metadata": {},
   "outputs": [
    {
     "data": {
      "text/html": [
       "<div>\n",
       "<style scoped>\n",
       "    .dataframe tbody tr th:only-of-type {\n",
       "        vertical-align: middle;\n",
       "    }\n",
       "\n",
       "    .dataframe tbody tr th {\n",
       "        vertical-align: top;\n",
       "    }\n",
       "\n",
       "    .dataframe thead th {\n",
       "        text-align: right;\n",
       "    }\n",
       "</style>\n",
       "<table border=\"1\" class=\"dataframe\">\n",
       "  <thead>\n",
       "    <tr style=\"text-align: right;\">\n",
       "      <th></th>\n",
       "      <th>Journal ID</th>\n",
       "      <th>Print ISSN</th>\n",
       "      <th>Online ISSN</th>\n",
       "      <th>Original Title</th>\n",
       "      <th>International Title</th>\n",
       "      <th>Country of Publication</th>\n",
       "      <th>ERIH PLUS Disciplines</th>\n",
       "      <th>OECD Classifications</th>\n",
       "      <th>[Last Updated]</th>\n",
       "    </tr>\n",
       "  </thead>\n",
       "  <tbody>\n",
       "    <tr>\n",
       "      <th>0</th>\n",
       "      <td>486254</td>\n",
       "      <td>1989-3477</td>\n",
       "      <td>NaN</td>\n",
       "      <td>@tic.revista d'innovació educativa</td>\n",
       "      <td>@tic.revista d'innovació educativa</td>\n",
       "      <td>Spain</td>\n",
       "      <td>Interdisciplinary research in the Social Scien...</td>\n",
       "      <td>Educational Sciences; Other Social Sciences</td>\n",
       "      <td>2015-06-25 13:48:26</td>\n",
       "    </tr>\n",
       "  </tbody>\n",
       "</table>\n",
       "</div>"
      ],
      "text/plain": [
       "   Journal ID Print ISSN Online ISSN                      Original Title  \\\n",
       "0      486254  1989-3477         NaN  @tic.revista d'innovació educativa   \n",
       "\n",
       "                  International Title Country of Publication  \\\n",
       "0  @tic.revista d'innovació educativa                  Spain   \n",
       "\n",
       "                               ERIH PLUS Disciplines  \\\n",
       "0  Interdisciplinary research in the Social Scien...   \n",
       "\n",
       "                          OECD Classifications       [Last Updated]  \n",
       "0  Educational Sciences; Other Social Sciences  2015-06-25 13:48:26  "
      ]
     },
     "execution_count": 2,
     "metadata": {},
     "output_type": "execute_result"
    }
   ],
   "source": [
    "erih_plus_df.head(1)"
   ]
  },
  {
   "cell_type": "code",
   "execution_count": 3,
   "metadata": {},
   "outputs": [],
   "source": [
    "def process_meta_csv(file_path, erih_plus_df):\n",
    "    meta_data = pd.read_csv(file_path)\n",
    "    meta_data['venue'] = meta_data['venue'].astype(str)\n",
    "    meta_data['issn'] = meta_data['venue'].str.extract(r'issn:(\\d{4}-\\d{3}[\\dX])')\n",
    "    \n",
    "    # Extract the identifier (OMID) from the 'id' column\n",
    "    meta_data['id'] = meta_data['id'].str.extract(r'(meta:[^ ]*)')\n",
    "    \n",
    "    merged_data_print = erih_plus_df.merge(meta_data, left_on='Print ISSN', right_on='issn', how='inner')\n",
    "    merged_data_online = erih_plus_df.merge(meta_data, left_on='Online ISSN', right_on='issn', how='inner')\n",
    "    merged_data = pd.concat([merged_data_print, merged_data_online], ignore_index=True)\n",
    "    \n",
    "    # Keep only the relevant columns for the mapping dataframe\n",
    "    merged_data = merged_data[['id', 'issn', 'Journal ID', 'Print ISSN', 'Online ISSN']].rename(columns={'id': 'OC_OMID', 'issn': 'OC_ISSN', 'Journal ID': 'EP_ID', 'Print ISSN': 'EP_Print_ISSN', 'Online ISSN': 'EP_Online_ISSN'})\n",
    "    \n",
    "    # Create the 'EP_ISSN' column\n",
    "    merged_data['EP_ISSN'] = merged_data['EP_Print_ISSN'].combine_first(merged_data['EP_Online_ISSN'])\n",
    "    \n",
    "    # Drop the 'EP_Print_ISSN' and 'EP_Online_ISSN' columns\n",
    "    merged_data = merged_data.drop(columns=['EP_Print_ISSN', 'EP_Online_ISSN'])\n",
    "\n",
    "    return merged_data\n",
    "\n"
   ]
  },
  {
   "cell_type": "code",
   "execution_count": 4,
   "metadata": {},
   "outputs": [],
   "source": [
    "csv_directory = 'I:\\\\open-sci\\\\dump-files\\\\opencitations-meta\\\\solo_one'\n",
    "merged_data = pd.DataFrame()\n",
    "\n",
    "for file_name in os.listdir(csv_directory):\n",
    "    if file_name.endswith('.csv'):\n",
    "        file_path = os.path.join(csv_directory, file_name)\n",
    "        merged_data_file = process_meta_csv(file_path, erih_plus_df)\n",
    "        merged_data = pd.concat([merged_data, merged_data_file], ignore_index=True)"
   ]
  },
  {
   "cell_type": "code",
   "execution_count": 5,
   "metadata": {},
   "outputs": [],
   "source": [
    "#merged_data.to_csv('OpenCitations_Meta_ERIH_PLUS_mapping_3.csv', index=False)"
   ]
  },
  {
   "cell_type": "code",
   "execution_count": 6,
   "metadata": {},
   "outputs": [
    {
     "data": {
      "text/html": [
       "<div>\n",
       "<style scoped>\n",
       "    .dataframe tbody tr th:only-of-type {\n",
       "        vertical-align: middle;\n",
       "    }\n",
       "\n",
       "    .dataframe tbody tr th {\n",
       "        vertical-align: top;\n",
       "    }\n",
       "\n",
       "    .dataframe thead th {\n",
       "        text-align: right;\n",
       "    }\n",
       "</style>\n",
       "<table border=\"1\" class=\"dataframe\">\n",
       "  <thead>\n",
       "    <tr style=\"text-align: right;\">\n",
       "      <th></th>\n",
       "      <th>OC_OMID</th>\n",
       "      <th>OC_ISSN</th>\n",
       "      <th>EP_ID</th>\n",
       "      <th>EP_ISSN</th>\n",
       "    </tr>\n",
       "  </thead>\n",
       "  <tbody>\n",
       "    <tr>\n",
       "      <th>0</th>\n",
       "      <td>meta:br/060100</td>\n",
       "      <td>NaN</td>\n",
       "      <td>488561</td>\n",
       "      <td>2341-0515</td>\n",
       "    </tr>\n",
       "  </tbody>\n",
       "</table>\n",
       "</div>"
      ],
      "text/plain": [
       "          OC_OMID OC_ISSN   EP_ID    EP_ISSN\n",
       "0  meta:br/060100     NaN  488561  2341-0515"
      ]
     },
     "execution_count": 6,
     "metadata": {},
     "output_type": "execute_result"
    }
   ],
   "source": [
    "merged_data.head(1)"
   ]
  },
  {
   "cell_type": "code",
   "execution_count": 7,
   "metadata": {},
   "outputs": [
    {
     "data": {
      "text/html": [
       "<div>\n",
       "<style scoped>\n",
       "    .dataframe tbody tr th:only-of-type {\n",
       "        vertical-align: middle;\n",
       "    }\n",
       "\n",
       "    .dataframe tbody tr th {\n",
       "        vertical-align: top;\n",
       "    }\n",
       "\n",
       "    .dataframe thead th {\n",
       "        text-align: right;\n",
       "    }\n",
       "</style>\n",
       "<table border=\"1\" class=\"dataframe\">\n",
       "  <thead>\n",
       "    <tr style=\"text-align: right;\">\n",
       "      <th></th>\n",
       "      <th>OC_OMID</th>\n",
       "      <th>OC_ISSN</th>\n",
       "      <th>EP_ID</th>\n",
       "      <th>EP_ISSN</th>\n",
       "    </tr>\n",
       "  </thead>\n",
       "  <tbody>\n",
       "    <tr>\n",
       "      <th>0</th>\n",
       "      <td>meta:br/0601646</td>\n",
       "      <td>0172-6404</td>\n",
       "      <td>471777</td>\n",
       "      <td>0172-6404</td>\n",
       "    </tr>\n",
       "    <tr>\n",
       "      <th>1</th>\n",
       "      <td>meta:br/0601638</td>\n",
       "      <td>0172-6404</td>\n",
       "      <td>471777</td>\n",
       "      <td>0172-6404</td>\n",
       "    </tr>\n",
       "  </tbody>\n",
       "</table>\n",
       "</div>"
      ],
      "text/plain": [
       "           OC_OMID    OC_ISSN   EP_ID    EP_ISSN\n",
       "0  meta:br/0601646  0172-6404  471777  0172-6404\n",
       "1  meta:br/0601638  0172-6404  471777  0172-6404"
      ]
     },
     "execution_count": 7,
     "metadata": {},
     "output_type": "execute_result"
    }
   ],
   "source": [
    "new_merged_data = merged_data.dropna(subset=['OC_ISSN']).reset_index(drop=True)\n",
    "new_merged_data.head(2)"
   ]
  },
  {
   "cell_type": "code",
   "execution_count": 8,
   "metadata": {},
   "outputs": [],
   "source": [
    "# Load DOAJ CSV file into a DataFrame\n",
    "doaj_file_path = 'journalcsv__doaj.csv'  # Replace this with the actual file path\n",
    "doaj_df = pd.read_csv(doaj_file_path, encoding=\"UTF-8\")"
   ]
  },
  {
   "cell_type": "code",
   "execution_count": 11,
   "metadata": {},
   "outputs": [
    {
     "name": "stdout",
     "output_type": "stream",
     "text": [
      "<class 'pandas.core.frame.DataFrame'>\n",
      "RangeIndex: 19278 entries, 0 to 19277\n",
      "Data columns (total 54 columns):\n",
      " #   Column                                                                       Non-Null Count  Dtype  \n",
      "---  ------                                                                       --------------  -----  \n",
      " 0   Journal title                                                                19278 non-null  object \n",
      " 1   Journal URL                                                                  19278 non-null  object \n",
      " 2   URL in DOAJ                                                                  19278 non-null  object \n",
      " 3   When did the journal start to publish all content using an open license?     19277 non-null  float64\n",
      " 4   Alternative title                                                            7485 non-null   object \n",
      " 5   Journal ISSN (print version)                                                 11148 non-null  object \n",
      " 6   Journal EISSN (online version)                                               18315 non-null  object \n",
      " 7   Keywords                                                                     19278 non-null  object \n",
      " 8   Languages in which the journal accepts manuscripts                           19278 non-null  object \n",
      " 9   Publisher                                                                    19277 non-null  object \n",
      " 10  Country of publisher                                                         19278 non-null  object \n",
      " 11  Society or institution                                                       10277 non-null  object \n",
      " 12  Country of society or institution                                            3351 non-null   object \n",
      " 13  Journal license                                                              19278 non-null  object \n",
      " 14  License attributes                                                           255 non-null    object \n",
      " 15  URL for license terms                                                        19248 non-null  object \n",
      " 16  Machine-readable CC licensing information embedded or displayed in articles  10331 non-null  object \n",
      " 17  URL to an example page with embedded licensing information                   10427 non-null  object \n",
      " 18  Author holds copyright without restrictions                                  19278 non-null  object \n",
      " 19  Copyright information URL                                                    14663 non-null  object \n",
      " 20  Review process                                                               19278 non-null  object \n",
      " 21  Review process information URL                                               19278 non-null  object \n",
      " 22  Journal plagiarism screening policy                                          19278 non-null  object \n",
      " 23  Plagiarism information URL                                                   11350 non-null  object \n",
      " 24  URL for journal's aims & scope                                               19278 non-null  object \n",
      " 25  URL for the Editorial Board page                                             19278 non-null  object \n",
      " 26  URL for journal's instructions for authors                                   19278 non-null  object \n",
      " 27  Average number of weeks between article submission and publication           19278 non-null  int64  \n",
      " 28  APC                                                                          19278 non-null  object \n",
      " 29  APC information URL                                                          19259 non-null  object \n",
      " 30  APC amount                                                                   6190 non-null   object \n",
      " 31  Journal waiver policy (for developing country authors etc)                   19278 non-null  object \n",
      " 32  Waiver policy information URL                                                4275 non-null   object \n",
      " 33  Has other fees                                                               19278 non-null  object \n",
      " 34  Other fees information URL                                                   8581 non-null   object \n",
      " 35  Preservation Services                                                        6590 non-null   object \n",
      " 36  Preservation Service: national library                                       2751 non-null   object \n",
      " 37  Preservation information URL                                                 9788 non-null   object \n",
      " 38  Deposit policy directory                                                     6605 non-null   object \n",
      " 39  URL for deposit policy                                                       3498 non-null   object \n",
      " 40  Persistent article identifiers                                               14486 non-null  object \n",
      " 41  Article metadata includes ORCIDs                                             9394 non-null   object \n",
      " 42  Journal complies with I4OC standards for open citations                      9395 non-null   object \n",
      " 43  Does the journal comply to DOAJ's definition of open access?                 19263 non-null  object \n",
      " 44  URL for journal's Open Access statement                                      19278 non-null  object \n",
      " 45  Continues                                                                    347 non-null    object \n",
      " 46  Continued By                                                                 243 non-null    object \n",
      " 47  LCC Codes                                                                    19278 non-null  object \n",
      " 48  Subjects                                                                     19278 non-null  object \n",
      " 49  DOAJ Seal                                                                    19278 non-null  object \n",
      " 50  Added on Date                                                                19278 non-null  object \n",
      " 51  Last updated Date                                                            19278 non-null  object \n",
      " 52  Number of Article Records                                                    19278 non-null  int64  \n",
      " 53  Most Recent Article Added                                                    15857 non-null  object \n",
      "dtypes: float64(1), int64(2), object(51)\n",
      "memory usage: 7.9+ MB\n"
     ]
    }
   ],
   "source": [
    "doaj_df.info()"
   ]
  },
  {
   "cell_type": "code",
   "execution_count": 14,
   "metadata": {},
   "outputs": [
    {
     "data": {
      "text/plain": [
       "Index(['Journal ISSN (print version)', 'Journal EISSN (online version)',\n",
       "       'Country of publisher'],\n",
       "      dtype='object')"
      ]
     },
     "execution_count": 14,
     "metadata": {},
     "output_type": "execute_result"
    }
   ],
   "source": [
    "new_doaj = doaj_df.iloc[1:, [5, 6, 10]]\n",
    "new_doaj.columns"
   ]
  },
  {
   "cell_type": "code",
   "execution_count": 16,
   "metadata": {},
   "outputs": [
    {
     "data": {
      "text/html": [
       "<div>\n",
       "<style scoped>\n",
       "    .dataframe tbody tr th:only-of-type {\n",
       "        vertical-align: middle;\n",
       "    }\n",
       "\n",
       "    .dataframe tbody tr th {\n",
       "        vertical-align: top;\n",
       "    }\n",
       "\n",
       "    .dataframe thead th {\n",
       "        text-align: right;\n",
       "    }\n",
       "</style>\n",
       "<table border=\"1\" class=\"dataframe\">\n",
       "  <thead>\n",
       "    <tr style=\"text-align: right;\">\n",
       "      <th></th>\n",
       "      <th>OC_OMID</th>\n",
       "      <th>OC_ISSN</th>\n",
       "      <th>EP_ID</th>\n",
       "      <th>EP_ISSN</th>\n",
       "      <th>Journal ISSN (print version)_print</th>\n",
       "      <th>Journal EISSN (online version)_print</th>\n",
       "      <th>Country of publisher_print</th>\n",
       "      <th>Journal ISSN (print version)_online</th>\n",
       "      <th>Journal EISSN (online version)_online</th>\n",
       "      <th>Country of publisher_online</th>\n",
       "    </tr>\n",
       "  </thead>\n",
       "  <tbody>\n",
       "    <tr>\n",
       "      <th>0</th>\n",
       "      <td>meta:br/0601646</td>\n",
       "      <td>0172-6404</td>\n",
       "      <td>471777</td>\n",
       "      <td>0172-6404</td>\n",
       "      <td>NaN</td>\n",
       "      <td>NaN</td>\n",
       "      <td>NaN</td>\n",
       "      <td>NaN</td>\n",
       "      <td>NaN</td>\n",
       "      <td>NaN</td>\n",
       "    </tr>\n",
       "    <tr>\n",
       "      <th>1</th>\n",
       "      <td>meta:br/0601638</td>\n",
       "      <td>0172-6404</td>\n",
       "      <td>471777</td>\n",
       "      <td>0172-6404</td>\n",
       "      <td>NaN</td>\n",
       "      <td>NaN</td>\n",
       "      <td>NaN</td>\n",
       "      <td>NaN</td>\n",
       "      <td>NaN</td>\n",
       "      <td>NaN</td>\n",
       "    </tr>\n",
       "    <tr>\n",
       "      <th>2</th>\n",
       "      <td>meta:br/0601645</td>\n",
       "      <td>0172-6404</td>\n",
       "      <td>471777</td>\n",
       "      <td>0172-6404</td>\n",
       "      <td>NaN</td>\n",
       "      <td>NaN</td>\n",
       "      <td>NaN</td>\n",
       "      <td>NaN</td>\n",
       "      <td>NaN</td>\n",
       "      <td>NaN</td>\n",
       "    </tr>\n",
       "    <tr>\n",
       "      <th>3</th>\n",
       "      <td>meta:br/0601643</td>\n",
       "      <td>0172-6404</td>\n",
       "      <td>471777</td>\n",
       "      <td>0172-6404</td>\n",
       "      <td>NaN</td>\n",
       "      <td>NaN</td>\n",
       "      <td>NaN</td>\n",
       "      <td>NaN</td>\n",
       "      <td>NaN</td>\n",
       "      <td>NaN</td>\n",
       "    </tr>\n",
       "    <tr>\n",
       "      <th>4</th>\n",
       "      <td>meta:br/0601640</td>\n",
       "      <td>0172-6404</td>\n",
       "      <td>471777</td>\n",
       "      <td>0172-6404</td>\n",
       "      <td>NaN</td>\n",
       "      <td>NaN</td>\n",
       "      <td>NaN</td>\n",
       "      <td>NaN</td>\n",
       "      <td>NaN</td>\n",
       "      <td>NaN</td>\n",
       "    </tr>\n",
       "  </tbody>\n",
       "</table>\n",
       "</div>"
      ],
      "text/plain": [
       "           OC_OMID    OC_ISSN   EP_ID    EP_ISSN  \\\n",
       "0  meta:br/0601646  0172-6404  471777  0172-6404   \n",
       "1  meta:br/0601638  0172-6404  471777  0172-6404   \n",
       "2  meta:br/0601645  0172-6404  471777  0172-6404   \n",
       "3  meta:br/0601643  0172-6404  471777  0172-6404   \n",
       "4  meta:br/0601640  0172-6404  471777  0172-6404   \n",
       "\n",
       "  Journal ISSN (print version)_print Journal EISSN (online version)_print  \\\n",
       "0                                NaN                                  NaN   \n",
       "1                                NaN                                  NaN   \n",
       "2                                NaN                                  NaN   \n",
       "3                                NaN                                  NaN   \n",
       "4                                NaN                                  NaN   \n",
       "\n",
       "  Country of publisher_print Journal ISSN (print version)_online  \\\n",
       "0                        NaN                                 NaN   \n",
       "1                        NaN                                 NaN   \n",
       "2                        NaN                                 NaN   \n",
       "3                        NaN                                 NaN   \n",
       "4                        NaN                                 NaN   \n",
       "\n",
       "  Journal EISSN (online version)_online Country of publisher_online  \n",
       "0                                   NaN                         NaN  \n",
       "1                                   NaN                         NaN  \n",
       "2                                   NaN                         NaN  \n",
       "3                                   NaN                         NaN  \n",
       "4                                   NaN                         NaN  "
      ]
     },
     "execution_count": 16,
     "metadata": {},
     "output_type": "execute_result"
    }
   ],
   "source": [
    "# Merge the Open Access information with the merged_data DataFrame\n",
    "merged_data_with_oa = new_merged_data.merge(new_doaj, left_on='EP_ISSN', right_on='Journal ISSN (print version)', how='left')\n",
    "merged_data_with_oa = merged_data_with_oa.merge(new_doaj, left_on='EP_ISSN', right_on='Journal EISSN (online version)', how='left', suffixes=('_print', '_online'))\n",
    "\n",
    "merged_data_with_oa.head()\n",
    "\n",
    "# Save the resulting DataFrame to a new CSV file\n",
    "#merged_data_with_oa.to_csv('OpenCitations_Meta_ERIH_PLUS_mapping_with_OA.csv', index=False)"
   ]
  },
  {
   "cell_type": "code",
   "execution_count": 17,
   "metadata": {},
   "outputs": [
    {
     "data": {
      "text/plain": [
       "Index(['OC_OMID', 'OC_ISSN', 'EP_ID', 'EP_ISSN',\n",
       "       'Journal ISSN (print version)_print',\n",
       "       'Journal EISSN (online version)_print', 'Country of publisher_print',\n",
       "       'Journal ISSN (print version)_online',\n",
       "       'Journal EISSN (online version)_online', 'Country of publisher_online'],\n",
       "      dtype='object')"
      ]
     },
     "execution_count": 17,
     "metadata": {},
     "output_type": "execute_result"
    }
   ],
   "source": [
    "merged_data_with_oa.columns"
   ]
  },
  {
   "cell_type": "code",
   "execution_count": 18,
   "metadata": {},
   "outputs": [
    {
     "data": {
      "text/html": [
       "<div>\n",
       "<style scoped>\n",
       "    .dataframe tbody tr th:only-of-type {\n",
       "        vertical-align: middle;\n",
       "    }\n",
       "\n",
       "    .dataframe tbody tr th {\n",
       "        vertical-align: top;\n",
       "    }\n",
       "\n",
       "    .dataframe thead th {\n",
       "        text-align: right;\n",
       "    }\n",
       "</style>\n",
       "<table border=\"1\" class=\"dataframe\">\n",
       "  <thead>\n",
       "    <tr style=\"text-align: right;\">\n",
       "      <th></th>\n",
       "      <th>OC_OMID</th>\n",
       "      <th>OC_ISSN</th>\n",
       "      <th>EP_ID</th>\n",
       "      <th>EP_ISSN</th>\n",
       "      <th>Journal ISSN (print version)_print</th>\n",
       "      <th>Journal EISSN (online version)_print</th>\n",
       "      <th>Country of publisher_print</th>\n",
       "      <th>Journal ISSN (print version)_online</th>\n",
       "      <th>Journal EISSN (online version)_online</th>\n",
       "      <th>Country of publisher_online</th>\n",
       "    </tr>\n",
       "  </thead>\n",
       "  <tbody>\n",
       "  </tbody>\n",
       "</table>\n",
       "</div>"
      ],
      "text/plain": [
       "Empty DataFrame\n",
       "Columns: [OC_OMID, OC_ISSN, EP_ID, EP_ISSN, Journal ISSN (print version)_print, Journal EISSN (online version)_print, Country of publisher_print, Journal ISSN (print version)_online, Journal EISSN (online version)_online, Country of publisher_online]\n",
       "Index: []"
      ]
     },
     "execution_count": 18,
     "metadata": {},
     "output_type": "execute_result"
    }
   ],
   "source": [
    "# Drop rows with NaN values\n",
    "merged_data_with_oa_no_nan = merged_data_with_oa.dropna(subset=['OC_OMID', 'OC_ISSN', 'EP_ID', 'EP_ISSN',\n",
    "                                                                'Journal ISSN (print version)_print',\n",
    "                                                                'Journal EISSN (online version)_print', 'Country of publisher_print',\n",
    "                                                                'Journal ISSN (print version)_online',\n",
    "                                                                'Journal EISSN (online version)_online', 'Country of publisher_online'])\n",
    "\n",
    "merged_data_with_oa_no_nan.head()"
   ]
  }
 ],
 "metadata": {
  "kernelspec": {
   "display_name": "Python 3",
   "language": "python",
   "name": "python3"
  },
  "language_info": {
   "codemirror_mode": {
    "name": "ipython",
    "version": 3
   },
   "file_extension": ".py",
   "mimetype": "text/x-python",
   "name": "python",
   "nbconvert_exporter": "python",
   "pygments_lexer": "ipython3",
   "version": "3.8.10"
  }
 },
 "nbformat": 4,
 "nbformat_minor": 0
}
