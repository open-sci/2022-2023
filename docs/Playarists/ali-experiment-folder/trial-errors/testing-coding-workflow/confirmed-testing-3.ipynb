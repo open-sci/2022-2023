{
 "cells": [
  {
   "cell_type": "code",
   "execution_count": 15,
   "metadata": {},
   "outputs": [],
   "source": [
    "import os\n",
    "import pandas as pd\n",
    "import csv\n",
    "\n",
    "def detect_delimiter(file_path):\n",
    "    with open(file_path, 'r', newline='', encoding='utf-8') as file:\n",
    "        dialect = csv.Sniffer().sniff(file.read(1024))\n",
    "    return dialect.delimiter\n",
    "\n",
    "delimiter = detect_delimiter('ERIHPLUSapprovedJournals.csv')\n",
    "erih_plus_df = pd.read_csv('ERIHPLUSapprovedJournals.csv', sep=delimiter)"
   ]
  },
  {
   "cell_type": "code",
   "execution_count": 16,
   "metadata": {},
   "outputs": [
    {
     "data": {
      "text/html": [
       "<div>\n",
       "<style scoped>\n",
       "    .dataframe tbody tr th:only-of-type {\n",
       "        vertical-align: middle;\n",
       "    }\n",
       "\n",
       "    .dataframe tbody tr th {\n",
       "        vertical-align: top;\n",
       "    }\n",
       "\n",
       "    .dataframe thead th {\n",
       "        text-align: right;\n",
       "    }\n",
       "</style>\n",
       "<table border=\"1\" class=\"dataframe\">\n",
       "  <thead>\n",
       "    <tr style=\"text-align: right;\">\n",
       "      <th></th>\n",
       "      <th>Journal ID</th>\n",
       "      <th>Print ISSN</th>\n",
       "      <th>Online ISSN</th>\n",
       "      <th>Original Title</th>\n",
       "      <th>International Title</th>\n",
       "      <th>Country of Publication</th>\n",
       "      <th>ERIH PLUS Disciplines</th>\n",
       "      <th>OECD Classifications</th>\n",
       "      <th>[Last Updated]</th>\n",
       "    </tr>\n",
       "  </thead>\n",
       "  <tbody>\n",
       "    <tr>\n",
       "      <th>0</th>\n",
       "      <td>486254</td>\n",
       "      <td>1989-3477</td>\n",
       "      <td>NaN</td>\n",
       "      <td>@tic.revista d'innovació educativa</td>\n",
       "      <td>@tic.revista d'innovació educativa</td>\n",
       "      <td>Spain</td>\n",
       "      <td>Interdisciplinary research in the Social Scien...</td>\n",
       "      <td>Educational Sciences; Other Social Sciences</td>\n",
       "      <td>2015-06-25 13:48:26</td>\n",
       "    </tr>\n",
       "  </tbody>\n",
       "</table>\n",
       "</div>"
      ],
      "text/plain": [
       "   Journal ID Print ISSN Online ISSN                      Original Title  \\\n",
       "0      486254  1989-3477         NaN  @tic.revista d'innovació educativa   \n",
       "\n",
       "                  International Title Country of Publication  \\\n",
       "0  @tic.revista d'innovació educativa                  Spain   \n",
       "\n",
       "                               ERIH PLUS Disciplines  \\\n",
       "0  Interdisciplinary research in the Social Scien...   \n",
       "\n",
       "                          OECD Classifications       [Last Updated]  \n",
       "0  Educational Sciences; Other Social Sciences  2015-06-25 13:48:26  "
      ]
     },
     "execution_count": 16,
     "metadata": {},
     "output_type": "execute_result"
    }
   ],
   "source": [
    "erih_plus_df.head(1)"
   ]
  },
  {
   "cell_type": "code",
   "execution_count": 17,
   "metadata": {},
   "outputs": [],
   "source": [
    "def process_meta_csv(file_path, erih_plus_df):\n",
    "    meta_data = pd.read_csv(file_path)\n",
    "    meta_data['venue'] = meta_data['venue'].astype(str)\n",
    "    meta_data['issn'] = meta_data['venue'].str.extract(r'issn:(\\d{4}-\\d{3}[\\dX])')\n",
    "    \n",
    "    # Extract the identifier (OMID) from the 'id' column\n",
    "    meta_data['id'] = meta_data['id'].str.extract(r'(meta:[^ ]*)')\n",
    "    \n",
    "    merged_data_print = erih_plus_df.merge(meta_data, left_on='Print ISSN', right_on='issn', how='inner')\n",
    "    merged_data_online = erih_plus_df.merge(meta_data, left_on='Online ISSN', right_on='issn', how='inner')\n",
    "    merged_data = pd.concat([merged_data_print, merged_data_online], ignore_index=True)\n",
    "    \n",
    "    # Keep only the relevant columns for the mapping dataframe\n",
    "    merged_data = merged_data[['id', 'issn', 'Journal ID', 'Print ISSN', 'Online ISSN']].rename(columns={'id': 'OC_OMID', 'issn': 'OC_ISSN', 'Journal ID': 'EP_ID', 'Print ISSN': 'EP_Print_ISSN', 'Online ISSN': 'EP_Online_ISSN'})\n",
    "    \n",
    "    # Create the 'EP_ISSN' column\n",
    "    merged_data['EP_ISSN'] = merged_data['EP_Print_ISSN'].combine_first(merged_data['EP_Online_ISSN'])\n",
    "    \n",
    "    # Drop the 'EP_Print_ISSN' and 'EP_Online_ISSN' columns\n",
    "    merged_data = merged_data.drop(columns=['EP_Print_ISSN', 'EP_Online_ISSN'])\n",
    "\n",
    "    return merged_data\n",
    "\n"
   ]
  },
  {
   "cell_type": "code",
   "execution_count": 18,
   "metadata": {},
   "outputs": [],
   "source": [
    "csv_directory = 'I:\\\\open-sci\\\\dump-files\\\\opencitations-meta\\\\solo_one'\n",
    "merged_data = pd.DataFrame()\n",
    "\n",
    "for file_name in os.listdir(csv_directory):\n",
    "    if file_name.endswith('.csv'):\n",
    "        file_path = os.path.join(csv_directory, file_name)\n",
    "        merged_data_file = process_meta_csv(file_path, erih_plus_df)\n",
    "        merged_data = pd.concat([merged_data, merged_data_file], ignore_index=True)"
   ]
  },
  {
   "cell_type": "code",
   "execution_count": 5,
   "metadata": {},
   "outputs": [],
   "source": [
    "#merged_data.to_csv('OpenCitations_Meta_ERIH_PLUS_mapping_3.csv', index=False)"
   ]
  },
  {
   "cell_type": "code",
   "execution_count": 19,
   "metadata": {},
   "outputs": [
    {
     "data": {
      "text/html": [
       "<div>\n",
       "<style scoped>\n",
       "    .dataframe tbody tr th:only-of-type {\n",
       "        vertical-align: middle;\n",
       "    }\n",
       "\n",
       "    .dataframe tbody tr th {\n",
       "        vertical-align: top;\n",
       "    }\n",
       "\n",
       "    .dataframe thead th {\n",
       "        text-align: right;\n",
       "    }\n",
       "</style>\n",
       "<table border=\"1\" class=\"dataframe\">\n",
       "  <thead>\n",
       "    <tr style=\"text-align: right;\">\n",
       "      <th></th>\n",
       "      <th>OC_OMID</th>\n",
       "      <th>OC_ISSN</th>\n",
       "      <th>EP_ID</th>\n",
       "      <th>EP_ISSN</th>\n",
       "    </tr>\n",
       "  </thead>\n",
       "  <tbody>\n",
       "    <tr>\n",
       "      <th>0</th>\n",
       "      <td>meta:br/060100</td>\n",
       "      <td>NaN</td>\n",
       "      <td>488561</td>\n",
       "      <td>2341-0515</td>\n",
       "    </tr>\n",
       "  </tbody>\n",
       "</table>\n",
       "</div>"
      ],
      "text/plain": [
       "          OC_OMID OC_ISSN   EP_ID    EP_ISSN\n",
       "0  meta:br/060100     NaN  488561  2341-0515"
      ]
     },
     "execution_count": 19,
     "metadata": {},
     "output_type": "execute_result"
    }
   ],
   "source": [
    "merged_data.head(1)"
   ]
  },
  {
   "cell_type": "code",
   "execution_count": 20,
   "metadata": {},
   "outputs": [
    {
     "data": {
      "text/html": [
       "<div>\n",
       "<style scoped>\n",
       "    .dataframe tbody tr th:only-of-type {\n",
       "        vertical-align: middle;\n",
       "    }\n",
       "\n",
       "    .dataframe tbody tr th {\n",
       "        vertical-align: top;\n",
       "    }\n",
       "\n",
       "    .dataframe thead th {\n",
       "        text-align: right;\n",
       "    }\n",
       "</style>\n",
       "<table border=\"1\" class=\"dataframe\">\n",
       "  <thead>\n",
       "    <tr style=\"text-align: right;\">\n",
       "      <th></th>\n",
       "      <th>OC_OMID</th>\n",
       "      <th>OC_ISSN</th>\n",
       "      <th>EP_ID</th>\n",
       "      <th>EP_ISSN</th>\n",
       "    </tr>\n",
       "  </thead>\n",
       "  <tbody>\n",
       "    <tr>\n",
       "      <th>0</th>\n",
       "      <td>meta:br/0601646</td>\n",
       "      <td>0172-6404</td>\n",
       "      <td>471777</td>\n",
       "      <td>0172-6404</td>\n",
       "    </tr>\n",
       "    <tr>\n",
       "      <th>1</th>\n",
       "      <td>meta:br/0601638</td>\n",
       "      <td>0172-6404</td>\n",
       "      <td>471777</td>\n",
       "      <td>0172-6404</td>\n",
       "    </tr>\n",
       "  </tbody>\n",
       "</table>\n",
       "</div>"
      ],
      "text/plain": [
       "           OC_OMID    OC_ISSN   EP_ID    EP_ISSN\n",
       "0  meta:br/0601646  0172-6404  471777  0172-6404\n",
       "1  meta:br/0601638  0172-6404  471777  0172-6404"
      ]
     },
     "execution_count": 20,
     "metadata": {},
     "output_type": "execute_result"
    }
   ],
   "source": [
    "new_merged_data = merged_data.dropna(subset=['OC_ISSN']).reset_index(drop=True)\n",
    "new_merged_data.head(2)"
   ]
  }
 ],
 "metadata": {
  "kernelspec": {
   "display_name": "Python 3",
   "language": "python",
   "name": "python3"
  },
  "language_info": {
   "codemirror_mode": {
    "name": "ipython",
    "version": 3
   },
   "file_extension": ".py",
   "mimetype": "text/x-python",
   "name": "python",
   "nbconvert_exporter": "python",
   "pygments_lexer": "ipython3",
   "version": "3.8.10"
  }
 },
 "nbformat": 4,
 "nbformat_minor": 0
}
